{
  "cells": [
    {
      "cell_type": "markdown",
      "metadata": {
        "id": "view-in-github",
        "colab_type": "text"
      },
      "source": [
        "<a href=\"https://colab.research.google.com/github/sohamtalukdar/Segmentation-of-Kidneys-in-MRI/blob/main/Unet.ipynb\" target=\"_parent\"><img src=\"https://colab.research.google.com/assets/colab-badge.svg\" alt=\"Open In Colab\"/></a>"
      ]
    },
    {
      "cell_type": "code",
      "execution_count": 115,
      "metadata": {
        "colab": {
          "base_uri": "https://localhost:8080/"
        },
        "id": "1bDqAs45lGS5",
        "outputId": "a522f880-0bb3-45a6-824e-decfbbc806c9"
      },
      "outputs": [
        {
          "output_type": "stream",
          "name": "stdout",
          "text": [
            "Looking in indexes: https://pypi.org/simple, https://us-python.pkg.dev/colab-wheels/public/simple/\n",
            "Requirement already satisfied: nibabel in /usr/local/lib/python3.7/dist-packages (4.0.1)\n",
            "Requirement already satisfied: packaging>=17.0 in /usr/local/lib/python3.7/dist-packages (from nibabel) (21.3)\n",
            "Requirement already satisfied: numpy>=1.17 in /usr/local/lib/python3.7/dist-packages (from nibabel) (1.21.6)\n",
            "Requirement already satisfied: setuptools in /usr/local/lib/python3.7/dist-packages (from nibabel) (57.4.0)\n",
            "Requirement already satisfied: pyparsing!=3.0.5,>=2.0.2 in /usr/local/lib/python3.7/dist-packages (from packaging>=17.0->nibabel) (3.0.9)\n",
            "Looking in indexes: https://pypi.org/simple, https://us-python.pkg.dev/colab-wheels/public/simple/\n",
            "Requirement already satisfied: keras-unet-collection==0.1.13 in /usr/local/lib/python3.7/dist-packages (0.1.13)\n",
            "Looking in indexes: https://pypi.org/simple, https://us-python.pkg.dev/colab-wheels/public/simple/\n",
            "Requirement already satisfied: keras-adabound in /usr/local/lib/python3.7/dist-packages (0.6.0)\n",
            "Requirement already satisfied: typeguard in /usr/local/lib/python3.7/dist-packages (from keras-adabound) (2.7.1)\n",
            "Requirement already satisfied: numpy in /usr/local/lib/python3.7/dist-packages (from keras-adabound) (1.21.6)\n",
            "Requirement already satisfied: Keras in /usr/local/lib/python3.7/dist-packages (from keras-adabound) (2.8.0)\n",
            "Looking in indexes: https://pypi.org/simple, https://us-python.pkg.dev/colab-wheels/public/simple/\n",
            "Requirement already satisfied: focal-loss in /usr/local/lib/python3.7/dist-packages (0.0.7)\n",
            "Requirement already satisfied: tensorflow>=2.2 in /usr/local/lib/python3.7/dist-packages (from focal-loss) (2.8.2+zzzcolab20220719082949)\n",
            "Requirement already satisfied: flatbuffers>=1.12 in /usr/local/lib/python3.7/dist-packages (from tensorflow>=2.2->focal-loss) (2.0)\n",
            "Requirement already satisfied: setuptools in /usr/local/lib/python3.7/dist-packages (from tensorflow>=2.2->focal-loss) (57.4.0)\n",
            "Requirement already satisfied: gast>=0.2.1 in /usr/local/lib/python3.7/dist-packages (from tensorflow>=2.2->focal-loss) (0.5.3)\n",
            "Requirement already satisfied: termcolor>=1.1.0 in /usr/local/lib/python3.7/dist-packages (from tensorflow>=2.2->focal-loss) (1.1.0)\n",
            "Requirement already satisfied: wrapt>=1.11.0 in /usr/local/lib/python3.7/dist-packages (from tensorflow>=2.2->focal-loss) (1.14.1)\n",
            "Requirement already satisfied: tensorboard<2.9,>=2.8 in /usr/local/lib/python3.7/dist-packages (from tensorflow>=2.2->focal-loss) (2.8.0)\n",
            "Requirement already satisfied: libclang>=9.0.1 in /usr/local/lib/python3.7/dist-packages (from tensorflow>=2.2->focal-loss) (14.0.6)\n",
            "Requirement already satisfied: tensorflow-io-gcs-filesystem>=0.23.1 in /usr/local/lib/python3.7/dist-packages (from tensorflow>=2.2->focal-loss) (0.26.0)\n",
            "Requirement already satisfied: tensorflow-estimator<2.9,>=2.8 in /usr/local/lib/python3.7/dist-packages (from tensorflow>=2.2->focal-loss) (2.8.0)\n",
            "Requirement already satisfied: keras<2.9,>=2.8.0rc0 in /usr/local/lib/python3.7/dist-packages (from tensorflow>=2.2->focal-loss) (2.8.0)\n",
            "Requirement already satisfied: astunparse>=1.6.0 in /usr/local/lib/python3.7/dist-packages (from tensorflow>=2.2->focal-loss) (1.6.3)\n",
            "Requirement already satisfied: six>=1.12.0 in /usr/local/lib/python3.7/dist-packages (from tensorflow>=2.2->focal-loss) (1.15.0)\n",
            "Requirement already satisfied: h5py>=2.9.0 in /usr/local/lib/python3.7/dist-packages (from tensorflow>=2.2->focal-loss) (3.1.0)\n",
            "Requirement already satisfied: typing-extensions>=3.6.6 in /usr/local/lib/python3.7/dist-packages (from tensorflow>=2.2->focal-loss) (4.1.1)\n",
            "Requirement already satisfied: absl-py>=0.4.0 in /usr/local/lib/python3.7/dist-packages (from tensorflow>=2.2->focal-loss) (1.2.0)\n",
            "Requirement already satisfied: numpy>=1.20 in /usr/local/lib/python3.7/dist-packages (from tensorflow>=2.2->focal-loss) (1.21.6)\n",
            "Requirement already satisfied: grpcio<2.0,>=1.24.3 in /usr/local/lib/python3.7/dist-packages (from tensorflow>=2.2->focal-loss) (1.47.0)\n",
            "Requirement already satisfied: keras-preprocessing>=1.1.1 in /usr/local/lib/python3.7/dist-packages (from tensorflow>=2.2->focal-loss) (1.1.2)\n",
            "Requirement already satisfied: protobuf<3.20,>=3.9.2 in /usr/local/lib/python3.7/dist-packages (from tensorflow>=2.2->focal-loss) (3.17.3)\n",
            "Requirement already satisfied: opt-einsum>=2.3.2 in /usr/local/lib/python3.7/dist-packages (from tensorflow>=2.2->focal-loss) (3.3.0)\n",
            "Requirement already satisfied: google-pasta>=0.1.1 in /usr/local/lib/python3.7/dist-packages (from tensorflow>=2.2->focal-loss) (0.2.0)\n",
            "Requirement already satisfied: wheel<1.0,>=0.23.0 in /usr/local/lib/python3.7/dist-packages (from astunparse>=1.6.0->tensorflow>=2.2->focal-loss) (0.37.1)\n",
            "Requirement already satisfied: cached-property in /usr/local/lib/python3.7/dist-packages (from h5py>=2.9.0->tensorflow>=2.2->focal-loss) (1.5.2)\n",
            "Requirement already satisfied: requests<3,>=2.21.0 in /usr/local/lib/python3.7/dist-packages (from tensorboard<2.9,>=2.8->tensorflow>=2.2->focal-loss) (2.23.0)\n",
            "Requirement already satisfied: google-auth<3,>=1.6.3 in /usr/local/lib/python3.7/dist-packages (from tensorboard<2.9,>=2.8->tensorflow>=2.2->focal-loss) (1.35.0)\n",
            "Requirement already satisfied: tensorboard-data-server<0.7.0,>=0.6.0 in /usr/local/lib/python3.7/dist-packages (from tensorboard<2.9,>=2.8->tensorflow>=2.2->focal-loss) (0.6.1)\n",
            "Requirement already satisfied: werkzeug>=0.11.15 in /usr/local/lib/python3.7/dist-packages (from tensorboard<2.9,>=2.8->tensorflow>=2.2->focal-loss) (1.0.1)\n",
            "Requirement already satisfied: tensorboard-plugin-wit>=1.6.0 in /usr/local/lib/python3.7/dist-packages (from tensorboard<2.9,>=2.8->tensorflow>=2.2->focal-loss) (1.8.1)\n",
            "Requirement already satisfied: markdown>=2.6.8 in /usr/local/lib/python3.7/dist-packages (from tensorboard<2.9,>=2.8->tensorflow>=2.2->focal-loss) (3.4.1)\n",
            "Requirement already satisfied: google-auth-oauthlib<0.5,>=0.4.1 in /usr/local/lib/python3.7/dist-packages (from tensorboard<2.9,>=2.8->tensorflow>=2.2->focal-loss) (0.4.6)\n",
            "Requirement already satisfied: rsa<5,>=3.1.4 in /usr/local/lib/python3.7/dist-packages (from google-auth<3,>=1.6.3->tensorboard<2.9,>=2.8->tensorflow>=2.2->focal-loss) (4.9)\n",
            "Requirement already satisfied: cachetools<5.0,>=2.0.0 in /usr/local/lib/python3.7/dist-packages (from google-auth<3,>=1.6.3->tensorboard<2.9,>=2.8->tensorflow>=2.2->focal-loss) (4.2.4)\n",
            "Requirement already satisfied: pyasn1-modules>=0.2.1 in /usr/local/lib/python3.7/dist-packages (from google-auth<3,>=1.6.3->tensorboard<2.9,>=2.8->tensorflow>=2.2->focal-loss) (0.2.8)\n",
            "Requirement already satisfied: requests-oauthlib>=0.7.0 in /usr/local/lib/python3.7/dist-packages (from google-auth-oauthlib<0.5,>=0.4.1->tensorboard<2.9,>=2.8->tensorflow>=2.2->focal-loss) (1.3.1)\n",
            "Requirement already satisfied: importlib-metadata>=4.4 in /usr/local/lib/python3.7/dist-packages (from markdown>=2.6.8->tensorboard<2.9,>=2.8->tensorflow>=2.2->focal-loss) (4.12.0)\n",
            "Requirement already satisfied: zipp>=0.5 in /usr/local/lib/python3.7/dist-packages (from importlib-metadata>=4.4->markdown>=2.6.8->tensorboard<2.9,>=2.8->tensorflow>=2.2->focal-loss) (3.8.1)\n",
            "Requirement already satisfied: pyasn1<0.5.0,>=0.4.6 in /usr/local/lib/python3.7/dist-packages (from pyasn1-modules>=0.2.1->google-auth<3,>=1.6.3->tensorboard<2.9,>=2.8->tensorflow>=2.2->focal-loss) (0.4.8)\n",
            "Requirement already satisfied: idna<3,>=2.5 in /usr/local/lib/python3.7/dist-packages (from requests<3,>=2.21.0->tensorboard<2.9,>=2.8->tensorflow>=2.2->focal-loss) (2.10)\n",
            "Requirement already satisfied: chardet<4,>=3.0.2 in /usr/local/lib/python3.7/dist-packages (from requests<3,>=2.21.0->tensorboard<2.9,>=2.8->tensorflow>=2.2->focal-loss) (3.0.4)\n",
            "Requirement already satisfied: urllib3!=1.25.0,!=1.25.1,<1.26,>=1.21.1 in /usr/local/lib/python3.7/dist-packages (from requests<3,>=2.21.0->tensorboard<2.9,>=2.8->tensorflow>=2.2->focal-loss) (1.24.3)\n",
            "Requirement already satisfied: certifi>=2017.4.17 in /usr/local/lib/python3.7/dist-packages (from requests<3,>=2.21.0->tensorboard<2.9,>=2.8->tensorflow>=2.2->focal-loss) (2022.6.15)\n",
            "Requirement already satisfied: oauthlib>=3.0.0 in /usr/local/lib/python3.7/dist-packages (from requests-oauthlib>=0.7.0->google-auth-oauthlib<0.5,>=0.4.1->tensorboard<2.9,>=2.8->tensorflow>=2.2->focal-loss) (3.2.0)\n",
            "Looking in indexes: https://pypi.org/simple, https://us-python.pkg.dev/colab-wheels/public/simple/\n",
            "Requirement already satisfied: segmentation_models_3D in /usr/local/lib/python3.7/dist-packages (1.0.4)\n",
            "Requirement already satisfied: tensorflow>=2.8.0 in /usr/local/lib/python3.7/dist-packages (from segmentation_models_3D) (2.8.2+zzzcolab20220719082949)\n",
            "Requirement already satisfied: keras-applications>=1.0.8 in /usr/local/lib/python3.7/dist-packages (from segmentation_models_3D) (1.0.8)\n",
            "Requirement already satisfied: classification-models-3D>=1.0.6 in /usr/local/lib/python3.7/dist-packages (from segmentation_models_3D) (1.0.6)\n",
            "Requirement already satisfied: h5py in /usr/local/lib/python3.7/dist-packages (from keras-applications>=1.0.8->segmentation_models_3D) (3.1.0)\n",
            "Requirement already satisfied: numpy>=1.9.1 in /usr/local/lib/python3.7/dist-packages (from keras-applications>=1.0.8->segmentation_models_3D) (1.21.6)\n",
            "Requirement already satisfied: gast>=0.2.1 in /usr/local/lib/python3.7/dist-packages (from tensorflow>=2.8.0->segmentation_models_3D) (0.5.3)\n",
            "Requirement already satisfied: flatbuffers>=1.12 in /usr/local/lib/python3.7/dist-packages (from tensorflow>=2.8.0->segmentation_models_3D) (2.0)\n",
            "Requirement already satisfied: termcolor>=1.1.0 in /usr/local/lib/python3.7/dist-packages (from tensorflow>=2.8.0->segmentation_models_3D) (1.1.0)\n",
            "Requirement already satisfied: opt-einsum>=2.3.2 in /usr/local/lib/python3.7/dist-packages (from tensorflow>=2.8.0->segmentation_models_3D) (3.3.0)\n",
            "Requirement already satisfied: setuptools in /usr/local/lib/python3.7/dist-packages (from tensorflow>=2.8.0->segmentation_models_3D) (57.4.0)\n",
            "Requirement already satisfied: grpcio<2.0,>=1.24.3 in /usr/local/lib/python3.7/dist-packages (from tensorflow>=2.8.0->segmentation_models_3D) (1.47.0)\n",
            "Requirement already satisfied: protobuf<3.20,>=3.9.2 in /usr/local/lib/python3.7/dist-packages (from tensorflow>=2.8.0->segmentation_models_3D) (3.17.3)\n",
            "Requirement already satisfied: keras-preprocessing>=1.1.1 in /usr/local/lib/python3.7/dist-packages (from tensorflow>=2.8.0->segmentation_models_3D) (1.1.2)\n",
            "Requirement already satisfied: absl-py>=0.4.0 in /usr/local/lib/python3.7/dist-packages (from tensorflow>=2.8.0->segmentation_models_3D) (1.2.0)\n",
            "Requirement already satisfied: tensorflow-io-gcs-filesystem>=0.23.1 in /usr/local/lib/python3.7/dist-packages (from tensorflow>=2.8.0->segmentation_models_3D) (0.26.0)\n",
            "Requirement already satisfied: typing-extensions>=3.6.6 in /usr/local/lib/python3.7/dist-packages (from tensorflow>=2.8.0->segmentation_models_3D) (4.1.1)\n",
            "Requirement already satisfied: libclang>=9.0.1 in /usr/local/lib/python3.7/dist-packages (from tensorflow>=2.8.0->segmentation_models_3D) (14.0.6)\n",
            "Requirement already satisfied: astunparse>=1.6.0 in /usr/local/lib/python3.7/dist-packages (from tensorflow>=2.8.0->segmentation_models_3D) (1.6.3)\n",
            "Requirement already satisfied: tensorboard<2.9,>=2.8 in /usr/local/lib/python3.7/dist-packages (from tensorflow>=2.8.0->segmentation_models_3D) (2.8.0)\n",
            "Requirement already satisfied: google-pasta>=0.1.1 in /usr/local/lib/python3.7/dist-packages (from tensorflow>=2.8.0->segmentation_models_3D) (0.2.0)\n",
            "Requirement already satisfied: wrapt>=1.11.0 in /usr/local/lib/python3.7/dist-packages (from tensorflow>=2.8.0->segmentation_models_3D) (1.14.1)\n",
            "Requirement already satisfied: six>=1.12.0 in /usr/local/lib/python3.7/dist-packages (from tensorflow>=2.8.0->segmentation_models_3D) (1.15.0)\n",
            "Requirement already satisfied: keras<2.9,>=2.8.0rc0 in /usr/local/lib/python3.7/dist-packages (from tensorflow>=2.8.0->segmentation_models_3D) (2.8.0)\n",
            "Requirement already satisfied: tensorflow-estimator<2.9,>=2.8 in /usr/local/lib/python3.7/dist-packages (from tensorflow>=2.8.0->segmentation_models_3D) (2.8.0)\n",
            "Requirement already satisfied: wheel<1.0,>=0.23.0 in /usr/local/lib/python3.7/dist-packages (from astunparse>=1.6.0->tensorflow>=2.8.0->segmentation_models_3D) (0.37.1)\n",
            "Requirement already satisfied: cached-property in /usr/local/lib/python3.7/dist-packages (from h5py->keras-applications>=1.0.8->segmentation_models_3D) (1.5.2)\n",
            "Requirement already satisfied: tensorboard-plugin-wit>=1.6.0 in /usr/local/lib/python3.7/dist-packages (from tensorboard<2.9,>=2.8->tensorflow>=2.8.0->segmentation_models_3D) (1.8.1)\n",
            "Requirement already satisfied: tensorboard-data-server<0.7.0,>=0.6.0 in /usr/local/lib/python3.7/dist-packages (from tensorboard<2.9,>=2.8->tensorflow>=2.8.0->segmentation_models_3D) (0.6.1)\n",
            "Requirement already satisfied: google-auth-oauthlib<0.5,>=0.4.1 in /usr/local/lib/python3.7/dist-packages (from tensorboard<2.9,>=2.8->tensorflow>=2.8.0->segmentation_models_3D) (0.4.6)\n",
            "Requirement already satisfied: markdown>=2.6.8 in /usr/local/lib/python3.7/dist-packages (from tensorboard<2.9,>=2.8->tensorflow>=2.8.0->segmentation_models_3D) (3.4.1)\n",
            "Requirement already satisfied: google-auth<3,>=1.6.3 in /usr/local/lib/python3.7/dist-packages (from tensorboard<2.9,>=2.8->tensorflow>=2.8.0->segmentation_models_3D) (1.35.0)\n",
            "Requirement already satisfied: werkzeug>=0.11.15 in /usr/local/lib/python3.7/dist-packages (from tensorboard<2.9,>=2.8->tensorflow>=2.8.0->segmentation_models_3D) (1.0.1)\n",
            "Requirement already satisfied: requests<3,>=2.21.0 in /usr/local/lib/python3.7/dist-packages (from tensorboard<2.9,>=2.8->tensorflow>=2.8.0->segmentation_models_3D) (2.23.0)\n",
            "Requirement already satisfied: pyasn1-modules>=0.2.1 in /usr/local/lib/python3.7/dist-packages (from google-auth<3,>=1.6.3->tensorboard<2.9,>=2.8->tensorflow>=2.8.0->segmentation_models_3D) (0.2.8)\n",
            "Requirement already satisfied: cachetools<5.0,>=2.0.0 in /usr/local/lib/python3.7/dist-packages (from google-auth<3,>=1.6.3->tensorboard<2.9,>=2.8->tensorflow>=2.8.0->segmentation_models_3D) (4.2.4)\n",
            "Requirement already satisfied: rsa<5,>=3.1.4 in /usr/local/lib/python3.7/dist-packages (from google-auth<3,>=1.6.3->tensorboard<2.9,>=2.8->tensorflow>=2.8.0->segmentation_models_3D) (4.9)\n",
            "Requirement already satisfied: requests-oauthlib>=0.7.0 in /usr/local/lib/python3.7/dist-packages (from google-auth-oauthlib<0.5,>=0.4.1->tensorboard<2.9,>=2.8->tensorflow>=2.8.0->segmentation_models_3D) (1.3.1)\n",
            "Requirement already satisfied: importlib-metadata>=4.4 in /usr/local/lib/python3.7/dist-packages (from markdown>=2.6.8->tensorboard<2.9,>=2.8->tensorflow>=2.8.0->segmentation_models_3D) (4.12.0)\n",
            "Requirement already satisfied: zipp>=0.5 in /usr/local/lib/python3.7/dist-packages (from importlib-metadata>=4.4->markdown>=2.6.8->tensorboard<2.9,>=2.8->tensorflow>=2.8.0->segmentation_models_3D) (3.8.1)\n",
            "Requirement already satisfied: pyasn1<0.5.0,>=0.4.6 in /usr/local/lib/python3.7/dist-packages (from pyasn1-modules>=0.2.1->google-auth<3,>=1.6.3->tensorboard<2.9,>=2.8->tensorflow>=2.8.0->segmentation_models_3D) (0.4.8)\n",
            "Requirement already satisfied: urllib3!=1.25.0,!=1.25.1,<1.26,>=1.21.1 in /usr/local/lib/python3.7/dist-packages (from requests<3,>=2.21.0->tensorboard<2.9,>=2.8->tensorflow>=2.8.0->segmentation_models_3D) (1.24.3)\n",
            "Requirement already satisfied: certifi>=2017.4.17 in /usr/local/lib/python3.7/dist-packages (from requests<3,>=2.21.0->tensorboard<2.9,>=2.8->tensorflow>=2.8.0->segmentation_models_3D) (2022.6.15)\n",
            "Requirement already satisfied: idna<3,>=2.5 in /usr/local/lib/python3.7/dist-packages (from requests<3,>=2.21.0->tensorboard<2.9,>=2.8->tensorflow>=2.8.0->segmentation_models_3D) (2.10)\n",
            "Requirement already satisfied: chardet<4,>=3.0.2 in /usr/local/lib/python3.7/dist-packages (from requests<3,>=2.21.0->tensorboard<2.9,>=2.8->tensorflow>=2.8.0->segmentation_models_3D) (3.0.4)\n",
            "Requirement already satisfied: oauthlib>=3.0.0 in /usr/local/lib/python3.7/dist-packages (from requests-oauthlib>=0.7.0->google-auth-oauthlib<0.5,>=0.4.1->tensorboard<2.9,>=2.8->tensorflow>=2.8.0->segmentation_models_3D) (3.2.0)\n"
          ]
        }
      ],
      "source": [
        "!pip install nibabel --upgrade\n",
        "! pip install keras-unet-collection==0.1.13\n",
        "!pip install keras-adabound\n",
        "from keras_unet_collection import models\n",
        "!pip install focal-loss\n",
        "!pip install segmentation_models_3D\n",
        "from keras_adabound import AdaBound\n",
        "import tensorflow as tf\n",
        "from tensorflow import keras\n",
        "from keras.layers import *\n",
        "import pandas as pd\n",
        "import numpy as np \n",
        "import matplotlib.pyplot as plt\n",
        "import os\n",
        "import nibabel as nib\n",
        "from nibabel.processing import conform\n",
        "from sklearn.model_selection import train_test_split\n",
        "from skimage.transform import resize\n",
        "from tensorflow.keras.layers import Input, Conv2D, MaxPooling2D, Activation, ReLU\n",
        "from tensorflow.keras.layers import BatchNormalization, Conv2DTranspose, Concatenate\n",
        "from tensorflow.keras.models import Model, Sequential\n",
        "from tensorflow.keras.optimizers import Adam, SGD\n",
        "from tensorflow.keras.optimizers import RMSprop\n",
        "import random\n",
        "from tqdm import tqdm \n",
        "from skimage.io import imread, imshow\n",
        "from skimage.transform import resize\n",
        "from PIL import Image\n",
        "from keras import backend as K\n",
        "from PIL import ImageOps"
      ]
    },
    {
      "cell_type": "code",
      "execution_count": 116,
      "metadata": {
        "colab": {
          "base_uri": "https://localhost:8080/"
        },
        "id": "q9dMpFp7mVK7",
        "outputId": "3e20e0f1-3771-454d-dbf3-9ef00170b216"
      },
      "outputs": [
        {
          "output_type": "stream",
          "name": "stdout",
          "text": [
            "Mounted at /content/drive\n"
          ]
        }
      ],
      "source": [
        "from google.colab import drive\n",
        "drive.mount('/content/drive', force_remount=True)"
      ]
    },
    {
      "cell_type": "code",
      "execution_count": 117,
      "metadata": {
        "id": "ZYalcDiah636"
      },
      "outputs": [],
      "source": [
        "\"\"\"Shamelessly taken from Alex Daniel - will cite properly!\"\"\"\n",
        "\n",
        "def rescale(data, black=None, white=None):\n",
        "    if black is None:\n",
        "        black = np.mean(data) - 0.5 * np.std(data)\n",
        "        if black < data.min():\n",
        "            black = data.min()\n",
        "    if white is None:\n",
        "        white = np.mean(data) + 4 * np.std(data)\n",
        "        if white > data.max():\n",
        "            white = data.max()\n",
        "    data = np.clip(data, black, white) - black\n",
        "    data = data / (white - black)\n",
        "    return data\n",
        "\n",
        "def normalise_image(image, affine):\n",
        "\n",
        "    image = rescale(image)\n",
        "    img = nib.Nifti1Image(image, affine)\n",
        "    zoom = img.header.get_zooms()\n",
        "    img = conform(img, out_shape=(240, 240, img.shape[-1]),\n",
        "                  voxel_size=(1.458, 1.458, zoom[-1] * 0.998),\n",
        "                  orientation='LIP')\n",
        "    image = img.get_fdata()\n",
        "    image = resize(image, (256, 256, image.shape[2]))\n",
        "    zoom = img.header.get_zooms()\n",
        "    return image\n",
        "  \n",
        "def normalise_mask(mask, affine):\n",
        "\n",
        "    img = nib.Nifti1Image(mask, affine)\n",
        "    img = conform(img, out_shape=(240, 240, img.shape[-1]),\n",
        "                  voxel_size=(1.458, 1.458, img.header.get_zooms()[-1] *\n",
        "                              0.998),\n",
        "                  orientation='LIP')\n",
        "    mask = img.get_fdata()\n",
        "    mask = resize(mask, (256, 256, mask.shape[2]))\n",
        "    mask = np.round(mask)\n",
        "    return mask"
      ]
    },
    {
      "cell_type": "code",
      "execution_count": 118,
      "metadata": {
        "colab": {
          "base_uri": "https://localhost:8080/"
        },
        "id": "d_DyW43NmWFF",
        "outputId": "99762dfe-e7f5-4f18-c15d-56140da77a6b"
      },
      "outputs": [
        {
          "output_type": "stream",
          "name": "stdout",
          "text": [
            "(256, 256, 17)\n"
          ]
        }
      ],
      "source": [
        "ground_truths = []\n",
        "base_scans = []\n",
        "dir = '/content/drive/MyDrive/ColabNotebooks/UNet/'\n",
        "for f in sorted(os.listdir(dir + 'GroundTruth/')):\n",
        "  image = nib.load(dir + 'GroundTruth/' + f)\n",
        "  ground_truths.append(image)\n",
        "for f in sorted(os.listdir(dir + 'Masks_T1/')):\n",
        "  image = nib.load(dir + 'Masks_T1/'+ f)\n",
        "  base_scans.append(image)\n",
        "print(ground_truths[1].header.get_data_shape())\n"
      ]
    },
    {
      "cell_type": "code",
      "execution_count": 119,
      "metadata": {
        "colab": {
          "base_uri": "https://localhost:8080/"
        },
        "id": "ZbU6i_KvGzg8",
        "outputId": "8a4bc04f-8b88-48db-d941-c9bd5f3c140f"
      },
      "outputs": [
        {
          "output_type": "stream",
          "name": "stdout",
          "text": [
            "(256, 256, 17)\n",
            "10 0\n",
            "<class 'numpy.ndarray'>\n"
          ]
        }
      ],
      "source": [
        "gt_arrays = []\n",
        "gt_affine = []\n",
        "base_arrays = []\n",
        "base_affine = []\n",
        "for img in ground_truths:\n",
        "  affine = img.affine\n",
        "  gt_voxels = img.get_fdata()\n",
        "  normalised = normalise_mask(gt_voxels, affine)\n",
        "  gt_arrays.append(normalised)\n",
        "for img in base_scans:\n",
        "  affine = img.affine\n",
        "  base_voxels = img.get_fdata()\n",
        "  normalised = normalise_image(base_voxels, affine)\n",
        "  base_arrays.append(base_voxels)\n",
        "pairs = zip(gt_arrays, base_arrays)\n",
        "\n",
        "print(gt_arrays[1].shape)\n",
        "print(len(gt_arrays), len(gt_affine))\n",
        "print(type(base_arrays[2]))\n",
        "\n",
        "\n"
      ]
    },
    {
      "cell_type": "code",
      "execution_count": 120,
      "metadata": {
        "colab": {
          "base_uri": "https://localhost:8080/",
          "height": 71
        },
        "id": "kwLCx3DLjM37",
        "outputId": "c8f0f440-591e-401e-9285-f6e4a70978e2"
      },
      "outputs": [
        {
          "output_type": "stream",
          "name": "stdout",
          "text": [
            "170 170\n",
            "(256, 256, 1) (256, 256, 1)\n"
          ]
        },
        {
          "output_type": "execute_result",
          "data": {
            "text/plain": [
              "'\\nfig, ax = plt.subplots(2)\\nax[0].imshow(x_images[46])\\nax[1].imshow(y_images[46])\\nplt.show()\\n'"
            ],
            "application/vnd.google.colaboratory.intrinsic+json": {
              "type": "string"
            }
          },
          "metadata": {},
          "execution_count": 120
        }
      ],
      "source": [
        "x_series = pd.Series(base_arrays)\n",
        "y_series = pd.Series(gt_arrays)\n",
        "\n",
        "#also courtesy of Alex Daniel\n",
        "\n",
        "def tf_arrays(series):\n",
        "    data = np.concatenate(series, 2)\n",
        "    data = np.swapaxes(data, 0, 2)\n",
        "    data = np.swapaxes(data, 1, 2)\n",
        "    data = np.expand_dims(data, 3)\n",
        "    return data\n",
        "\n",
        "x_data = tf_arrays(x_series)\n",
        "y_data = tf_arrays(y_series)\n",
        "\"\"\"\n",
        "for img in base_arrays:\n",
        "  for i in range(0,17):\n",
        "    x_images.append(img[:,:,i,np.newaxis])\n",
        "for img in gt_arrays:\n",
        "  for i in range(0,17):\n",
        "    y_images.append(img[:,:,i,np.newaxis])\n",
        "\"\"\"\n",
        "\n",
        "print(len(x_data), len(y_data))\n",
        "print(x_data[1].shape, y_data[1].shape)\n",
        "\n",
        "\n",
        "\"\"\"\n",
        "fig, ax = plt.subplots(2)\n",
        "ax[0].imshow(x_images[46])\n",
        "ax[1].imshow(y_images[46])\n",
        "plt.show()\n",
        "\"\"\""
      ]
    },
    {
      "cell_type": "code",
      "source": [
        "x_train, x_valid, y_train, y_valid = train_test_split(x_data, y_data, \n",
        "                                     test_size = 0.3)"
      ],
      "metadata": {
        "id": "PYTtaivLdHO-"
      },
      "execution_count": 208,
      "outputs": []
    },
    {
      "cell_type": "code",
      "execution_count": 209,
      "metadata": {
        "id": "qlTQZAFDNEV5"
      },
      "outputs": [],
      "source": [
        "### UNET\n",
        "\n",
        "def convolution_operation(entered_input, filters=64):\n",
        "    # Taking first input and implementing the first conv block\n",
        "    conv1 = Conv2D(filters, kernel_size = (3,3), padding = \"same\")(entered_input)\n",
        "    batch_norm1 = BatchNormalization()(conv1)\n",
        "    act1 = ReLU()(batch_norm1)\n",
        "    \n",
        "    # Taking first input and implementing the second conv block\n",
        "    conv2 = Conv2D(filters, kernel_size = (3,3), padding = \"same\")(act1)\n",
        "    batch_norm2 = BatchNormalization()(conv2)\n",
        "    act2 = ReLU()(batch_norm2)\n",
        "    \n",
        "    return act2\n",
        "\n",
        "\n",
        "\n",
        "def encoder(entered_input, filters=64):\n",
        "    # Collect the start and end of each sub-block for normal pass and skip connections\n",
        "    enc1 = convolution_operation(entered_input, filters)\n",
        "    MaxPool1 = MaxPooling2D(strides = (2,2))(enc1)\n",
        "    return enc1, MaxPool1\n",
        "\n",
        "\n",
        "def decoder(entered_input, skip, filters=64):\n",
        "    # Upsampling and concatenating the essential features\n",
        "    Upsample = Conv2DTranspose(filters, (2, 2), strides=2, padding=\"same\")(entered_input)\n",
        "    Connect_Skip = Concatenate()([Upsample, skip])\n",
        "    out = convolution_operation(Connect_Skip, filters)\n",
        "    return out\n",
        "\n",
        "\n",
        "def U_Net(Image_Size):\n",
        "    # Take the image size and shape\n",
        "    input1 = Input(Image_Size)\n",
        "    \n",
        "    # Construct the encoder blocks\n",
        "    skip1, encoder_1 = encoder(input1, 64)\n",
        "    skip2, encoder_2 = encoder(encoder_1, 64*2)\n",
        "    skip3, encoder_3 = encoder(encoder_2, 64*4)\n",
        "    skip4, encoder_4 = encoder(encoder_3, 64*8)\n",
        "    \n",
        "    # Preparing the next block\n",
        "    conv_block = convolution_operation(encoder_4, 64*16)\n",
        "    \n",
        "    # Construct the decoder blocks\n",
        "    decoder_1 = decoder(conv_block, skip4, 64*8)\n",
        "    decoder_2 = decoder(decoder_1, skip3, 64*4)\n",
        "    decoder_3 = decoder(decoder_2, skip2, 64*2)\n",
        "    decoder_4 = decoder(decoder_3, skip1, 64)\n",
        "    \n",
        "    out = Conv2D(3, 1, padding=\"same\", activation=\"softmax\")(decoder_4)\n",
        "\n",
        "    model = Model(input1, out)\n",
        "    return model\n",
        "\n"
      ]
    },
    {
      "cell_type": "code",
      "source": [
        "# model = models.unet_2d((256, 256, 1), [64, 128, 256, 512, 1024], n_labels=3,\n",
        "#                       stack_num_down=4, stack_num_up=4,\n",
        "#                       activation='ReLU', output_activation='Softmax', \n",
        "#                       batch_norm=False, pool='max', unpool='nearest', name='unet')\n"
      ],
      "metadata": {
        "id": "QJ-EnyS469kw"
      },
      "execution_count": 210,
      "outputs": []
    },
    {
      "cell_type": "code",
      "execution_count": 211,
      "metadata": {
        "id": "VtCXOTgBIkI_"
      },
      "outputs": [],
      "source": [
        "input_shape = (256, 256,1)\n",
        "model = U_Net(input_shape)"
      ]
    },
    {
      "cell_type": "code",
      "source": [
        "from focal_loss import SparseCategoricalFocalLoss\n",
        "loss_func = SparseCategoricalFocalLoss(gamma=2)\n",
        "\n",
        "model.compile(optimizer= Adam(learning_rate = 1e-4), \n",
        "              loss= \"sparse_categorical_crossentropy\"\n",
        "              #loss= loss_func\n",
        "              )\n",
        "\n",
        "# Train the model, doing validation at the end of each epoch.\n",
        "\n",
        "result = model.fit(x=x_train, \n",
        "                   y=y_train, \n",
        "                   batch_size=2, \n",
        "                   steps_per_epoch=len(x_train)//2,\n",
        "                   epochs=100, \n",
        "                   validation_data=(x_valid, y_valid), \n",
        "                   )"
      ],
      "metadata": {
        "id": "1g61wxDCdWIV",
        "colab": {
          "base_uri": "https://localhost:8080/"
        },
        "outputId": "d5b50cbc-29aa-4401-cbfc-aab075f02ba0"
      },
      "execution_count": 212,
      "outputs": [
        {
          "output_type": "stream",
          "name": "stdout",
          "text": [
            "Epoch 1/100\n",
            "59/59 [==============================] - 8s 99ms/step - loss: 0.5139 - val_loss: 0.9542\n",
            "Epoch 2/100\n",
            "59/59 [==============================] - 5s 90ms/step - loss: 0.2030 - val_loss: 0.6836\n",
            "Epoch 3/100\n",
            "59/59 [==============================] - 5s 89ms/step - loss: 0.1496 - val_loss: 0.4269\n",
            "Epoch 4/100\n",
            "59/59 [==============================] - 5s 89ms/step - loss: 0.1206 - val_loss: 0.2636\n",
            "Epoch 5/100\n",
            "59/59 [==============================] - 5s 90ms/step - loss: 0.1008 - val_loss: 0.1864\n",
            "Epoch 6/100\n",
            "59/59 [==============================] - 5s 90ms/step - loss: 0.0849 - val_loss: 0.1399\n",
            "Epoch 7/100\n",
            "59/59 [==============================] - 5s 89ms/step - loss: 0.0781 - val_loss: 0.1158\n",
            "Epoch 8/100\n",
            "59/59 [==============================] - 5s 89ms/step - loss: 0.0670 - val_loss: 0.0897\n",
            "Epoch 9/100\n",
            "59/59 [==============================] - 5s 90ms/step - loss: 0.0625 - val_loss: 0.0879\n",
            "Epoch 10/100\n",
            "59/59 [==============================] - 5s 89ms/step - loss: 0.0561 - val_loss: 0.0718\n",
            "Epoch 11/100\n",
            "59/59 [==============================] - 5s 90ms/step - loss: 0.0524 - val_loss: 0.0644\n",
            "Epoch 12/100\n",
            "59/59 [==============================] - 5s 89ms/step - loss: 0.0486 - val_loss: 0.0549\n",
            "Epoch 13/100\n",
            "59/59 [==============================] - 5s 89ms/step - loss: 0.0439 - val_loss: 0.0606\n",
            "Epoch 14/100\n",
            "59/59 [==============================] - 5s 90ms/step - loss: 0.0417 - val_loss: 0.0489\n",
            "Epoch 15/100\n",
            "59/59 [==============================] - 5s 91ms/step - loss: 0.0393 - val_loss: 0.0597\n",
            "Epoch 16/100\n",
            "59/59 [==============================] - 5s 90ms/step - loss: 0.0380 - val_loss: 0.0470\n",
            "Epoch 17/100\n",
            "59/59 [==============================] - 5s 90ms/step - loss: 0.0355 - val_loss: 0.0460\n",
            "Epoch 18/100\n",
            "59/59 [==============================] - 5s 90ms/step - loss: 0.0326 - val_loss: 0.0457\n",
            "Epoch 19/100\n",
            "59/59 [==============================] - 5s 91ms/step - loss: 0.0319 - val_loss: 0.0420\n",
            "Epoch 20/100\n",
            "59/59 [==============================] - 5s 90ms/step - loss: 0.0312 - val_loss: 0.0672\n",
            "Epoch 21/100\n",
            "59/59 [==============================] - 5s 90ms/step - loss: 0.0290 - val_loss: 0.0426\n",
            "Epoch 22/100\n",
            "59/59 [==============================] - 5s 90ms/step - loss: 0.0291 - val_loss: 0.0436\n",
            "Epoch 23/100\n",
            "59/59 [==============================] - 5s 89ms/step - loss: 0.0259 - val_loss: 0.0430\n",
            "Epoch 24/100\n",
            "59/59 [==============================] - 5s 90ms/step - loss: 0.0262 - val_loss: 0.0355\n",
            "Epoch 25/100\n",
            "59/59 [==============================] - 5s 89ms/step - loss: 0.0249 - val_loss: 0.0434\n",
            "Epoch 26/100\n",
            "59/59 [==============================] - 5s 89ms/step - loss: 0.0242 - val_loss: 0.0319\n",
            "Epoch 27/100\n",
            "59/59 [==============================] - 5s 89ms/step - loss: 0.0241 - val_loss: 0.0358\n",
            "Epoch 28/100\n",
            "59/59 [==============================] - 5s 89ms/step - loss: 0.0221 - val_loss: 0.0365\n",
            "Epoch 29/100\n",
            "59/59 [==============================] - 5s 90ms/step - loss: 0.0229 - val_loss: 0.0320\n",
            "Epoch 30/100\n",
            "59/59 [==============================] - 5s 89ms/step - loss: 0.0195 - val_loss: 0.0598\n",
            "Epoch 31/100\n",
            "59/59 [==============================] - 5s 89ms/step - loss: 0.0225 - val_loss: 0.0283\n",
            "Epoch 32/100\n",
            "59/59 [==============================] - 5s 90ms/step - loss: 0.0199 - val_loss: 0.0331\n",
            "Epoch 33/100\n",
            "59/59 [==============================] - 5s 89ms/step - loss: 0.0193 - val_loss: 0.0276\n",
            "Epoch 34/100\n",
            "59/59 [==============================] - 5s 90ms/step - loss: 0.0175 - val_loss: 0.0281\n",
            "Epoch 35/100\n",
            "59/59 [==============================] - 5s 90ms/step - loss: 0.0188 - val_loss: 0.0547\n",
            "Epoch 36/100\n",
            "59/59 [==============================] - 5s 89ms/step - loss: 0.0195 - val_loss: 0.0286\n",
            "Epoch 37/100\n",
            "59/59 [==============================] - 5s 89ms/step - loss: 0.0182 - val_loss: 0.0304\n",
            "Epoch 38/100\n",
            "59/59 [==============================] - 5s 89ms/step - loss: 0.0172 - val_loss: 0.0371\n",
            "Epoch 39/100\n",
            "59/59 [==============================] - 5s 89ms/step - loss: 0.0183 - val_loss: 0.0275\n",
            "Epoch 40/100\n",
            "59/59 [==============================] - 5s 89ms/step - loss: 0.0176 - val_loss: 0.0297\n",
            "Epoch 41/100\n",
            "59/59 [==============================] - 5s 90ms/step - loss: 0.0150 - val_loss: 0.0238\n",
            "Epoch 42/100\n",
            "59/59 [==============================] - 5s 90ms/step - loss: 0.0143 - val_loss: 0.0423\n",
            "Epoch 43/100\n",
            "59/59 [==============================] - 5s 89ms/step - loss: 0.0129 - val_loss: 0.0329\n",
            "Epoch 44/100\n",
            "59/59 [==============================] - 5s 90ms/step - loss: 0.0127 - val_loss: 0.0260\n",
            "Epoch 45/100\n",
            "59/59 [==============================] - 5s 90ms/step - loss: 0.0130 - val_loss: 0.0255\n",
            "Epoch 46/100\n",
            "59/59 [==============================] - 5s 90ms/step - loss: 0.0121 - val_loss: 0.0252\n",
            "Epoch 47/100\n",
            "59/59 [==============================] - 5s 90ms/step - loss: 0.0106 - val_loss: 0.0321\n",
            "Epoch 48/100\n",
            "59/59 [==============================] - 5s 90ms/step - loss: 0.0117 - val_loss: 0.0241\n",
            "Epoch 49/100\n",
            "59/59 [==============================] - 5s 90ms/step - loss: 0.0106 - val_loss: 0.0265\n",
            "Epoch 50/100\n",
            "59/59 [==============================] - 5s 89ms/step - loss: 0.0099 - val_loss: 0.0272\n",
            "Epoch 51/100\n",
            "59/59 [==============================] - 5s 89ms/step - loss: 0.0090 - val_loss: 0.0354\n",
            "Epoch 52/100\n",
            "59/59 [==============================] - 5s 90ms/step - loss: 0.0089 - val_loss: 0.0277\n",
            "Epoch 53/100\n",
            "59/59 [==============================] - 5s 90ms/step - loss: 0.0087 - val_loss: 0.0238\n",
            "Epoch 54/100\n",
            "59/59 [==============================] - 5s 90ms/step - loss: 0.0095 - val_loss: 0.0306\n",
            "Epoch 55/100\n",
            "59/59 [==============================] - 5s 90ms/step - loss: 0.0085 - val_loss: 0.0237\n",
            "Epoch 56/100\n",
            "59/59 [==============================] - 5s 90ms/step - loss: 0.0077 - val_loss: 0.0300\n",
            "Epoch 57/100\n",
            "59/59 [==============================] - 5s 90ms/step - loss: 0.0078 - val_loss: 0.0255\n",
            "Epoch 58/100\n",
            "59/59 [==============================] - 5s 90ms/step - loss: 0.0064 - val_loss: 0.0264\n",
            "Epoch 59/100\n",
            "59/59 [==============================] - 5s 90ms/step - loss: 0.0060 - val_loss: 0.0259\n",
            "Epoch 60/100\n",
            "59/59 [==============================] - 5s 90ms/step - loss: 0.0063 - val_loss: 0.0368\n",
            "Epoch 61/100\n",
            "59/59 [==============================] - 5s 90ms/step - loss: 0.0059 - val_loss: 0.0298\n",
            "Epoch 62/100\n",
            "59/59 [==============================] - 5s 90ms/step - loss: 0.0057 - val_loss: 0.0268\n",
            "Epoch 63/100\n",
            "59/59 [==============================] - 5s 90ms/step - loss: 0.0052 - val_loss: 0.0260\n",
            "Epoch 64/100\n",
            "59/59 [==============================] - 5s 89ms/step - loss: 0.0050 - val_loss: 0.0283\n",
            "Epoch 65/100\n",
            "59/59 [==============================] - 5s 90ms/step - loss: 0.0050 - val_loss: 0.0325\n",
            "Epoch 66/100\n",
            "59/59 [==============================] - 5s 90ms/step - loss: 0.0052 - val_loss: 0.0264\n",
            "Epoch 67/100\n",
            "59/59 [==============================] - 5s 89ms/step - loss: 0.0055 - val_loss: 0.0311\n",
            "Epoch 68/100\n",
            "59/59 [==============================] - 5s 90ms/step - loss: 0.0061 - val_loss: 0.0484\n",
            "Epoch 69/100\n",
            "59/59 [==============================] - 5s 90ms/step - loss: 0.0092 - val_loss: 0.0475\n",
            "Epoch 70/100\n",
            "59/59 [==============================] - 5s 90ms/step - loss: 0.0062 - val_loss: 0.0259\n",
            "Epoch 71/100\n",
            "59/59 [==============================] - 5s 90ms/step - loss: 0.0045 - val_loss: 0.0272\n",
            "Epoch 72/100\n",
            "59/59 [==============================] - 5s 90ms/step - loss: 0.0039 - val_loss: 0.0293\n",
            "Epoch 73/100\n",
            "59/59 [==============================] - 5s 89ms/step - loss: 0.0039 - val_loss: 0.0309\n",
            "Epoch 74/100\n",
            "59/59 [==============================] - 5s 90ms/step - loss: 0.0036 - val_loss: 0.0291\n",
            "Epoch 75/100\n",
            "59/59 [==============================] - 5s 90ms/step - loss: 0.0033 - val_loss: 0.0318\n",
            "Epoch 76/100\n",
            "59/59 [==============================] - 5s 90ms/step - loss: 0.0034 - val_loss: 0.0293\n",
            "Epoch 77/100\n",
            "59/59 [==============================] - 5s 90ms/step - loss: 0.0030 - val_loss: 0.0379\n",
            "Epoch 78/100\n",
            "59/59 [==============================] - 5s 91ms/step - loss: 0.0029 - val_loss: 0.0328\n",
            "Epoch 79/100\n",
            "59/59 [==============================] - 5s 91ms/step - loss: 0.0027 - val_loss: 0.0333\n",
            "Epoch 80/100\n",
            "59/59 [==============================] - 5s 90ms/step - loss: 0.0029 - val_loss: 0.0328\n",
            "Epoch 81/100\n",
            "59/59 [==============================] - 5s 90ms/step - loss: 0.0025 - val_loss: 0.0332\n",
            "Epoch 82/100\n",
            "59/59 [==============================] - 5s 90ms/step - loss: 0.0027 - val_loss: 0.0323\n",
            "Epoch 83/100\n",
            "59/59 [==============================] - 5s 90ms/step - loss: 0.0028 - val_loss: 0.0329\n",
            "Epoch 84/100\n",
            "59/59 [==============================] - 5s 90ms/step - loss: 0.0024 - val_loss: 0.0341\n",
            "Epoch 85/100\n",
            "59/59 [==============================] - 5s 90ms/step - loss: 0.0026 - val_loss: 0.0380\n",
            "Epoch 86/100\n",
            "59/59 [==============================] - 5s 90ms/step - loss: 0.0022 - val_loss: 0.0353\n",
            "Epoch 87/100\n",
            "59/59 [==============================] - 5s 89ms/step - loss: 0.0023 - val_loss: 0.0358\n",
            "Epoch 88/100\n",
            "59/59 [==============================] - 5s 90ms/step - loss: 0.0022 - val_loss: 0.0727\n",
            "Epoch 89/100\n",
            "59/59 [==============================] - 5s 90ms/step - loss: 0.0028 - val_loss: 0.0352\n",
            "Epoch 90/100\n",
            "59/59 [==============================] - 5s 90ms/step - loss: 0.0026 - val_loss: 0.0359\n",
            "Epoch 91/100\n",
            "59/59 [==============================] - 5s 90ms/step - loss: 0.0025 - val_loss: 0.0364\n",
            "Epoch 92/100\n",
            "59/59 [==============================] - 5s 90ms/step - loss: 0.0020 - val_loss: 0.0405\n",
            "Epoch 93/100\n",
            "59/59 [==============================] - 5s 90ms/step - loss: 0.0019 - val_loss: 0.0379\n",
            "Epoch 94/100\n",
            "59/59 [==============================] - 5s 90ms/step - loss: 0.0021 - val_loss: 0.0368\n",
            "Epoch 95/100\n",
            "59/59 [==============================] - 5s 90ms/step - loss: 0.0019 - val_loss: 0.0377\n",
            "Epoch 96/100\n",
            "59/59 [==============================] - 5s 90ms/step - loss: 0.0016 - val_loss: 0.0381\n",
            "Epoch 97/100\n",
            "59/59 [==============================] - 5s 89ms/step - loss: 0.0013 - val_loss: 0.0398\n",
            "Epoch 98/100\n",
            "59/59 [==============================] - 5s 90ms/step - loss: 0.0010 - val_loss: 0.0434\n",
            "Epoch 99/100\n",
            "59/59 [==============================] - 5s 90ms/step - loss: 0.0010 - val_loss: 0.0419\n",
            "Epoch 100/100\n",
            "59/59 [==============================] - 5s 90ms/step - loss: 9.1117e-04 - val_loss: 0.0439\n"
          ]
        }
      ]
    },
    {
      "cell_type": "code",
      "execution_count": 218,
      "metadata": {
        "id": "UpwwahceEJpY",
        "colab": {
          "base_uri": "https://localhost:8080/",
          "height": 791
        },
        "outputId": "b5782338-48cf-4bf7-ab3e-e6f258efc1dc"
      },
      "outputs": [
        {
          "output_type": "stream",
          "name": "stdout",
          "text": [
            "2/2 [==============================] - 0s 174ms/step - loss: 0.0439\n"
          ]
        },
        {
          "output_type": "display_data",
          "data": {
            "text/plain": [
              "<Figure size 432x288 with 1 Axes>"
            ],
            "image/png": "[encoded data removed]"
          },
          "metadata": {
            "needs_background": "light"
          }
        },
        {
          "output_type": "display_data",
          "data": {
            "text/plain": [
              "<Figure size 432x288 with 1 Axes>"
            ],
            "image/png": "[encoded data removed]"
          },
          "metadata": {
            "needs_background": "light"
          }
        },
        {
          "output_type": "display_data",
          "data": {
            "text/plain": [
              "<Figure size 432x288 with 1 Axes>"
            ],
            "image/png": "[encoded data removed]"
          },
          "metadata": {
            "needs_background": "light"
          }
        }
      ],
      "source": [
        "model.evaluate(x_valid, y_valid)\n",
        "predicted_masks = model.predict(x_train)\n",
        "plt.show()\n",
        "#FOR T2 - 20,14,12,11,6,5,3,2( 12 ): 2,3,4,8\n",
        "#FOR T1 - 20,18,16,12,11,10,7,6,5,4\n",
        "i = 20\n",
        "plt.imshow(np.squeeze(x_train[i]))\n",
        "plt.show()\n",
        "# plt.imshow(np.squeeze(y_train[i]))\n",
        "# plt.show()\n",
        "plt.imshow(np.squeeze(predicted_masks[i]))\n",
        "plt.show()\n",
        "\n",
        "\n",
        "def display_mask(j):\n",
        "    \"\"\"Quick utility to display a model's prediction.\"\"\"\n",
        "    mask = np.argmax(predicted_masks[i], axis=-1)\n",
        "    mask = np.expand_dims(mask, axis=-1)\n",
        "    img = ImageOps.autocontrast(keras.preprocessing.image.array_to_img(mask))\n",
        "    #display(img)\n",
        "    plt.imshow(np.squeeze(mask))\n",
        "    plt.show()\n",
        "\n",
        "display_mask(predicted_masks[i])\n"
      ]
    },
    {
      "cell_type": "code",
      "source": [
        ""
      ],
      "metadata": {
        "id": "NeWAyGIg1oTI"
      },
      "execution_count": null,
      "outputs": []
    }
  ],
  "metadata": {
    "accelerator": "GPU",
    "colab": {
      "collapsed_sections": [],
      "name": "Unet.ipynb",
      "provenance": [],
      "machine_shape": "hm",
      "include_colab_link": true
    },
    "gpuClass": "standard",
    "kernelspec": {
      "display_name": "Python 3",
      "name": "python3"
    },
    "language_info": {
      "name": "python"
    }
  },
  "nbformat": 4,
  "nbformat_minor": 0
}