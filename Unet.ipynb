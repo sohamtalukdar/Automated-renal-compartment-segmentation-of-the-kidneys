{
  "cells": [
    {
      "cell_type": "markdown",
      "metadata": {
        "id": "view-in-github",
        "colab_type": "text"
      },
      "source": [
        "<a href=\"https://colab.research.google.com/github/sohamtalukdar/Segmentation-of-Kidneys-in-MRI/blob/main/Unet.ipynb\" target=\"_parent\"><img src=\"https://colab.research.google.com/assets/colab-badge.svg\" alt=\"Open In Colab\"/></a>"
      ]
    },
    {
      "cell_type": "code",
      "execution_count": 1,
      "metadata": {
        "colab": {
          "base_uri": "https://localhost:8080/",
          "height": 53
        },
        "id": "DI03EFWCLK0J",
        "outputId": "72b44983-78d2-46a1-f758-9efebed13a60"
      },
      "outputs": [
        {
          "output_type": "stream",
          "name": "stdout",
          "text": [
            "Python 3.7.13\n"
          ]
        },
        {
          "output_type": "execute_result",
          "data": {
            "text/plain": [
              "'2.8.2'"
            ],
            "application/vnd.google.colaboratory.intrinsic+json": {
              "type": "string"
            }
          },
          "metadata": {},
          "execution_count": 1
        }
      ],
      "source": [
        "import tensorflow as tf\n",
        "#tf. test. gpu_device_name()\n",
        "# !sudo apt-get update -y\n",
        "# !sudo apt-get install python3.9\n",
        "!python --version\n",
        "#!nvidia-smi -q\n",
        "tf.__version__"
      ]
    },
    {
      "cell_type": "code",
      "execution_count": 2,
      "metadata": {
        "colab": {
          "base_uri": "https://localhost:8080/"
        },
        "id": "1bDqAs45lGS5",
        "outputId": "13e902fc-e372-4b94-d229-ec171e7a9b9c"
      },
      "outputs": [
        {
          "output_type": "stream",
          "name": "stdout",
          "text": [
            "Looking in indexes: https://pypi.org/simple, https://us-python.pkg.dev/colab-wheels/public/simple/\n",
            "Requirement already satisfied: nibabel in /usr/local/lib/python3.7/dist-packages (3.0.2)\n",
            "Collecting nibabel\n",
            "  Downloading nibabel-4.0.1-py3-none-any.whl (3.3 MB)\n",
            "\u001b[K     |████████████████████████████████| 3.3 MB 5.1 MB/s \n",
            "\u001b[?25hRequirement already satisfied: numpy>=1.17 in /usr/local/lib/python3.7/dist-packages (from nibabel) (1.21.6)\n",
            "Requirement already satisfied: packaging>=17.0 in /usr/local/lib/python3.7/dist-packages (from nibabel) (21.3)\n",
            "Requirement already satisfied: setuptools in /usr/local/lib/python3.7/dist-packages (from nibabel) (57.4.0)\n",
            "Requirement already satisfied: pyparsing!=3.0.5,>=2.0.2 in /usr/local/lib/python3.7/dist-packages (from packaging>=17.0->nibabel) (3.0.9)\n",
            "Installing collected packages: nibabel\n",
            "  Attempting uninstall: nibabel\n",
            "    Found existing installation: nibabel 3.0.2\n",
            "    Uninstalling nibabel-3.0.2:\n",
            "      Successfully uninstalled nibabel-3.0.2\n",
            "Successfully installed nibabel-4.0.1\n"
          ]
        }
      ],
      "source": [
        "!pip install nibabel --upgrade\n",
        "#!pip install keras-unet-collection==0.1.13\n",
        "#!pip install keras-adabound\n",
        "#!pip install focal-loss\n",
        "#pip install segmentation_models_3D\n",
        "#from keras_unet_collection import models\n",
        "#from keras_adabound import AdaBound\n",
        "import scipy.ndimage as ndi\n",
        "import tensorflow as tf\n",
        "from tensorflow import keras\n",
        "from keras.layers import *\n",
        "import pandas as pd\n",
        "import numpy as np \n",
        "import matplotlib.pyplot as plt\n",
        "import os\n",
        "import nibabel as nib\n",
        "from nibabel.processing import conform\n",
        "from sklearn.model_selection import train_test_split\n",
        "from skimage.transform import resize\n",
        "from tensorflow.keras.layers import Input, Conv2D, MaxPooling2D, Activation, ReLU, BatchNormalization, Conv2DTranspose, Concatenate\n",
        "from tensorflow.keras.models import Model, Sequential\n",
        "from tensorflow.keras.optimizers import Adam, SGD, Nadam,RMSprop\n",
        "import random\n",
        "from tqdm import tqdm \n",
        "from skimage.io import imread, imshow\n",
        "from skimage.transform import resize\n",
        "from PIL import Image\n",
        "from keras import backend as K\n",
        "from PIL import ImageOps"
      ]
    },
    {
      "cell_type": "code",
      "execution_count": 3,
      "metadata": {
        "colab": {
          "base_uri": "https://localhost:8080/"
        },
        "id": "q9dMpFp7mVK7",
        "outputId": "381ed276-acfa-4cdc-fd29-f999c88456c1"
      },
      "outputs": [
        {
          "output_type": "stream",
          "name": "stdout",
          "text": [
            "Mounted at /content/drive\n"
          ]
        }
      ],
      "source": [
        "from google.colab import drive\n",
        "drive.mount('/content/drive', force_remount=True)"
      ]
    },
    {
      "cell_type": "code",
      "execution_count": 4,
      "metadata": {
        "id": "ZYalcDiah636"
      },
      "outputs": [],
      "source": [
        "\"\"\"Shamelessly taken from Alex Daniel - will cite properly!\"\"\"\n",
        "\n",
        "def rescale(data, black=None, white=None):\n",
        "    if black is None:\n",
        "        black = np.mean(data) - 0.5 * np.std(data)\n",
        "        if black < data.min():\n",
        "            black = data.min()\n",
        "    if white is None:\n",
        "        white = np.mean(data) + 4 * np.std(data)\n",
        "        if white > data.max():\n",
        "            white = data.max()\n",
        "    data = np.clip(data, black, white) - black\n",
        "    data = data / (white - black)\n",
        "    return data\n",
        "\n",
        "def normalise_image(image, affine):\n",
        "\n",
        "    image = rescale(image)\n",
        "    img = nib.Nifti1Image(image, affine)\n",
        "    zoom = img.header.get_zooms()\n",
        "    img = conform(img, out_shape=(240, 240, img.shape[-1]),\n",
        "                  voxel_size=(1.458, 1.458, zoom[-1] * 0.998),\n",
        "                  orientation='LIP')\n",
        "    image = img.get_fdata()\n",
        "    image = resize(image, (256, 256, image.shape[2]))\n",
        "    zoom = img.header.get_zooms()\n",
        "    return image\n",
        "  \n",
        "def normalise_mask(mask, affine):\n",
        "\n",
        "    img = nib.Nifti1Image(mask, affine)\n",
        "    img = conform(img, out_shape=(240, 240, img.shape[-1]),\n",
        "                  voxel_size=(1.458, 1.458, img.header.get_zooms()[-1] *\n",
        "                              0.998),\n",
        "                  orientation='LIP')\n",
        "    mask = img.get_fdata()\n",
        "    mask = resize(mask, (256, 256, mask.shape[2]))\n",
        "    mask = np.round(mask)\n",
        "    return mask"
      ]
    },
    {
      "cell_type": "code",
      "execution_count": 5,
      "metadata": {
        "colab": {
          "base_uri": "https://localhost:8080/"
        },
        "id": "d_DyW43NmWFF",
        "outputId": "b5c99df6-9ccd-4b6f-e1cb-e33cb1f9e0c6"
      },
      "outputs": [
        {
          "output_type": "stream",
          "name": "stdout",
          "text": [
            "(256, 256, 17)\n"
          ]
        }
      ],
      "source": [
        "ground_truths = []\n",
        "base_scans = []\n",
        "dir = '/content/drive/MyDrive/ColabNotebooks/UNet/'\n",
        "for f in sorted(os.listdir(dir + 'GroundTruth/')):\n",
        "  image = nib.load(dir + 'GroundTruth/' + f)\n",
        "  ground_truths.append(image)\n",
        "for f in sorted(os.listdir(dir + 'Masks_T1/')):\n",
        "  image = nib.load(dir + 'Masks_T1/'+ f)\n",
        "  base_scans.append(image)\n",
        "print(ground_truths[1].header.get_data_shape())\n"
      ]
    },
    {
      "cell_type": "code",
      "execution_count": 6,
      "metadata": {
        "colab": {
          "base_uri": "https://localhost:8080/"
        },
        "id": "ZbU6i_KvGzg8",
        "outputId": "43c9635a-1567-4686-e4c3-4825673491d7"
      },
      "outputs": [
        {
          "output_type": "stream",
          "name": "stdout",
          "text": [
            "(256, 256, 17)\n",
            "10 0\n",
            "<class 'numpy.ndarray'>\n"
          ]
        }
      ],
      "source": [
        "gt_arrays = []\n",
        "gt_affine = []\n",
        "base_arrays = []\n",
        "base_affine = []\n",
        "for img in ground_truths:\n",
        "  affine = img.affine\n",
        "  gt_voxels = img.get_fdata()\n",
        "  normalised = normalise_mask(gt_voxels, affine)\n",
        "  gt_arrays.append(normalised)\n",
        "for img in base_scans:\n",
        "  affine = img.affine\n",
        "  base_voxels = img.get_fdata()\n",
        "  normalised = normalise_image(base_voxels, affine)\n",
        "  base_arrays.append(base_voxels)\n",
        "pairs = zip(gt_arrays, base_arrays)\n",
        "\n",
        "print(gt_arrays[1].shape)\n",
        "print(len(gt_arrays), len(gt_affine))\n",
        "print(type(base_arrays[2]))\n",
        "\n",
        "\n"
      ]
    },
    {
      "cell_type": "code",
      "execution_count": 7,
      "metadata": {
        "colab": {
          "base_uri": "https://localhost:8080/",
          "height": 71
        },
        "id": "kwLCx3DLjM37",
        "outputId": "afe51c91-25cd-4b09-b569-8349a61775c2"
      },
      "outputs": [
        {
          "output_type": "stream",
          "name": "stdout",
          "text": [
            "170 170\n",
            "(256, 256, 1) (256, 256, 1)\n"
          ]
        },
        {
          "output_type": "execute_result",
          "data": {
            "text/plain": [
              "'\\nfig, ax = plt.subplots(2)\\nax[0].imshow(x_images[46])\\nax[1].imshow(y_images[46])\\nplt.show()\\n'"
            ],
            "application/vnd.google.colaboratory.intrinsic+json": {
              "type": "string"
            }
          },
          "metadata": {},
          "execution_count": 7
        }
      ],
      "source": [
        "x_series = pd.Series(base_arrays)\n",
        "y_series = pd.Series(gt_arrays)\n",
        "\n",
        "#also courtesy of Alex Daniel\n",
        "\n",
        "def tf_arrays(series):\n",
        "    data = np.concatenate(series, 2)\n",
        "    data = np.swapaxes(data, 0, 2)\n",
        "    data = np.swapaxes(data, 1, 2)\n",
        "    data = np.expand_dims(data, 3)\n",
        "    return data\n",
        "\n",
        "x_data = tf_arrays(x_series)\n",
        "y_data = tf_arrays(y_series)\n",
        "\"\"\"\n",
        "for img in base_arrays:\n",
        "  for i in range(0,17):\n",
        "    x_images.append(img[:,:,i,np.newaxis])\n",
        "for img in gt_arrays:\n",
        "  for i in range(0,17):\n",
        "    y_images.append(img[:,:,i,np.newaxis])\n",
        "\"\"\"\n",
        "\n",
        "print(len(x_data), len(y_data))\n",
        "print(x_data[1].shape, y_data[1].shape)\n",
        "\n",
        "\n",
        "\"\"\"\n",
        "fig, ax = plt.subplots(2)\n",
        "ax[0].imshow(x_images[46])\n",
        "ax[1].imshow(y_images[46])\n",
        "plt.show()\n",
        "\"\"\""
      ]
    },
    {
      "cell_type": "code",
      "execution_count": 8,
      "metadata": {
        "id": "PYTtaivLdHO-"
      },
      "outputs": [],
      "source": [
        "x_train, x_valid, y_train, y_valid = train_test_split(x_data, y_data, test_size = 0.2)"
      ]
    },
    {
      "cell_type": "code",
      "execution_count": 234,
      "metadata": {
        "id": "qlTQZAFDNEV5"
      },
      "outputs": [],
      "source": [
        "### UNET\n",
        "\n",
        "def convolution_operation(entered_input, filters=64):\n",
        "    # Taking first input and implementing the first conv block\n",
        "    conv1 = Conv2D(filters, kernel_size = (3,3), padding = \"same\")(entered_input)\n",
        "    batch_norm1 = BatchNormalization()(conv1)\n",
        "    act1 = ReLU()(batch_norm1)\n",
        "    \n",
        "    # Taking first input and implementing the second conv block\n",
        "    conv2 = Conv2D(filters, kernel_size = (3,3), padding = \"same\")(act1)\n",
        "    batch_norm2 = BatchNormalization()(conv2)\n",
        "    act2 = ReLU()(batch_norm2)\n",
        "    \n",
        "    return act2\n",
        "\n",
        "\n",
        "\n",
        "def encoder(entered_input, filters=64):\n",
        "    # Collect the start and end of each sub-block for normal pass and skip connections\n",
        "    enc1 = convolution_operation(entered_input, filters)\n",
        "    MaxPool1 = MaxPooling2D(strides = (2,2))(enc1)\n",
        "    return enc1, MaxPool1\n",
        "\n",
        "\n",
        "def decoder(entered_input, skip, filters=64):\n",
        "    # Upsampling and concatenating the essential features\n",
        "    Upsample = Conv2DTranspose(filters, (2, 2), strides=2, padding=\"same\")(entered_input)\n",
        "    Connect_Skip = Concatenate()([Upsample, skip])\n",
        "    out = convolution_operation(Connect_Skip, filters)\n",
        "    return out\n",
        "\n",
        "\n",
        "def U_Net(Image_Size):\n",
        "    # Take the image size and shape\n",
        "    input1 = Input(Image_Size)\n",
        "    \n",
        "    # Construct the encoder blocks\n",
        "    skip1, encoder_1 = encoder(input1, 64)\n",
        "    skip2, encoder_2 = encoder(encoder_1, 64*2)\n",
        "    skip3, encoder_3 = encoder(encoder_2, 64*4)\n",
        "    skip4, encoder_4 = encoder(encoder_3, 64*8)\n",
        "    \n",
        "    # Preparing the next block\n",
        "    conv_block = convolution_operation(encoder_4, 64*16)\n",
        "    \n",
        "    # Construct the decoder blocks\n",
        "    decoder_1 = decoder(conv_block, skip4, 64*8)\n",
        "    decoder_2 = decoder(decoder_1, skip3, 64*4)\n",
        "    decoder_3 = decoder(decoder_2, skip2, 64*2)\n",
        "    decoder_4 = decoder(decoder_3, skip1, 64)\n",
        "    \n",
        "    out = Conv2D(3, 1, padding=\"same\", activation=\"softmax\")(decoder_4)\n",
        "\n",
        "    model = Model(input1, out)\n",
        "    return model\n"
      ]
    },
    {
      "cell_type": "code",
      "execution_count": 235,
      "metadata": {
        "id": "VtCXOTgBIkI_"
      },
      "outputs": [],
      "source": [
        "input_shape = (256, 256,1)\n",
        "model = U_Net(input_shape)"
      ]
    },
    {
      "cell_type": "code",
      "execution_count": 236,
      "metadata": {
        "id": "g11sqpgcA2L9"
      },
      "outputs": [],
      "source": [
        "def dice_coefficient(y_true, y_pred, smooth=1):\n",
        "    intersection = K.sum(y_true * y_pred, axis=[0, 1])\n",
        "    union = K.sum(y_true, axis=[0,1]) + K.sum(y_pred, axis=[0, 1])\n",
        "    return K.mean((2. * intersection + smooth) / (union + smooth), axis=0)\n",
        "\n",
        "def dice_loss(y_true, y_pred):\n",
        "  return 1 - dice_coefficient(y_true, y_pred)"
      ]
    },
    {
      "cell_type": "code",
      "execution_count": 237,
      "metadata": {
        "id": "5jIgS4n1JQEx"
      },
      "outputs": [],
      "source": [
        "model.compile(optimizer= Adam(learning_rate = 1e-4), \n",
        "              loss= 'sparse_categorical_crossentropy',\n",
        "              metrics = ['accuracy',dice_coefficient]\n",
        "              )"
      ]
    },
    {
      "cell_type": "code",
      "execution_count": 239,
      "metadata": {
        "colab": {
          "base_uri": "https://localhost:8080/"
        },
        "id": "1g61wxDCdWIV",
        "outputId": "cf1167bf-0f8d-4ee0-88ce-2188d0bbb5fc"
      },
      "outputs": [
        {
          "output_type": "stream",
          "name": "stdout",
          "text": [
            "68/68 [==============================] - 6s 87ms/step - loss: 0.1831 - accuracy: 0.9851 - dice_coefficient: 0.0883 - val_loss: 0.2733 - val_accuracy: 0.9817 - val_dice_coefficient: 0.0784\n"
          ]
        }
      ],
      "source": [
        "history = model.fit(x=x_train, \n",
        "                   y=y_train, \n",
        "                   batch_size=2, \n",
        "                   steps_per_epoch=len(x_train)//2,\n",
        "                   epochs=1, \n",
        "                   validation_data=(x_valid, y_valid), \n",
        "                   )"
      ]
    },
    {
      "cell_type": "code",
      "source": [
        "model.evaluate(x_valid, y_valid)\n",
        "predicted_masks = model.predict(x_valid)"
      ],
      "metadata": {
        "colab": {
          "base_uri": "https://localhost:8080/"
        },
        "id": "UAhWGrL3psUj",
        "outputId": "44e4ca82-61b6-4338-d9b6-5f02df7994b1"
      },
      "execution_count": 240,
      "outputs": [
        {
          "output_type": "stream",
          "name": "stdout",
          "text": [
            "2/2 [==============================] - 1s 29ms/step - loss: 0.2733 - accuracy: 0.9817 - dice_coefficient: 0.0971\n"
          ]
        }
      ]
    },
    {
      "cell_type": "code",
      "source": [
        "from keras.metrics import MeanIoU\n",
        "num_classes = 3\n",
        "IOU = MeanIoU(num_classes=num_classes)  \n",
        "IOU.update_state(y_valid, np.argmax(predicted_masks, axis =3))\n",
        "print(\"Mean IoU = \", IOU.result().numpy())"
      ],
      "metadata": {
        "colab": {
          "base_uri": "https://localhost:8080/"
        },
        "id": "JgIIPgt2kJhC",
        "outputId": "68847311-cae0-4259-eb14-d8ca566d184e"
      },
      "execution_count": 264,
      "outputs": [
        {
          "output_type": "stream",
          "name": "stdout",
          "text": [
            "Mean IoU =  0.55205685\n"
          ]
        }
      ]
    },
    {
      "cell_type": "code",
      "source": [
        "from keras.metrics import MeanIoU\n",
        "num_classes = 3\n",
        "for i in range(len(x_valid)):\n",
        "  IOU = MeanIoU(num_classes=num_classes)  \n",
        "  IOU.update_state(y_valid[i], np.argmax(predicted_masks[i], axis =2))\n",
        "  print(f\"Mean IoU for slices {i} = \", IOU.result().numpy())"
      ],
      "metadata": {
        "colab": {
          "base_uri": "https://localhost:8080/"
        },
        "id": "wby17i47yk4o",
        "outputId": "3c0532bc-f69e-45b2-c03b-ea87b68dc7bb"
      },
      "execution_count": 260,
      "outputs": [
        {
          "output_type": "stream",
          "name": "stdout",
          "text": [
            "Mean IoU for slices 0 =  1.0\n",
            "Mean IoU for slices 1 =  0.56983197\n",
            "Mean IoU for slices 2 =  0.45419943\n",
            "Mean IoU for slices 3 =  0.57276016\n",
            "Mean IoU for slices 4 =  0.6654658\n",
            "Mean IoU for slices 5 =  0.5849817\n",
            "Mean IoU for slices 6 =  0.4778904\n",
            "Mean IoU for slices 7 =  1.0\n",
            "Mean IoU for slices 8 =  0.5099893\n",
            "Mean IoU for slices 9 =  1.0\n",
            "Mean IoU for slices 10 =  0.4611411\n",
            "Mean IoU for slices 11 =  0.6107115\n",
            "Mean IoU for slices 12 =  0.45071885\n",
            "Mean IoU for slices 13 =  0.57121545\n",
            "Mean IoU for slices 14 =  1.0\n",
            "Mean IoU for slices 15 =  0.47856638\n",
            "Mean IoU for slices 16 =  0.6186053\n",
            "Mean IoU for slices 17 =  0.65253633\n",
            "Mean IoU for slices 18 =  0.6127607\n",
            "Mean IoU for slices 19 =  0.48775637\n",
            "Mean IoU for slices 20 =  1.0\n",
            "Mean IoU for slices 21 =  1.0\n",
            "Mean IoU for slices 22 =  1.0\n",
            "Mean IoU for slices 23 =  0.52762747\n",
            "Mean IoU for slices 24 =  1.0\n",
            "Mean IoU for slices 25 =  1.0\n",
            "Mean IoU for slices 26 =  0.50356185\n",
            "Mean IoU for slices 27 =  1.0\n",
            "Mean IoU for slices 28 =  0.49315497\n",
            "Mean IoU for slices 29 =  1.0\n",
            "Mean IoU for slices 30 =  0.5104154\n",
            "Mean IoU for slices 31 =  1.0\n",
            "Mean IoU for slices 32 =  0.5560308\n",
            "Mean IoU for slices 33 =  0.49432525\n"
          ]
        }
      ]
    },
    {
      "cell_type": "code",
      "source": [
        "values = np.array(IOU.get_weights()).reshape(num_classes, num_classes)\n",
        "print(values)\n",
        "class1_IoU = values[0,0]/(values[0,0] + values[0,1] + values[0,2] + values[1,0]+ values[2,0])\n",
        "class2_IoU = values[1,1]/(values[1,1] + values[1,0] + values[1,2] +  values[0,1]+ values[2,1])\n",
        "class3_IoU = values[2,2]/(values[2,2] + values[2,0] + values[2,1] +  values[0,2]+ values[1,2])\n",
        "\n",
        "print(\"IoU for class1 is: \", class1_IoU)\n",
        "print(\"IoU for class2 is: \", class2_IoU)\n",
        "print(\"IoU for class3 is: \", class3_IoU)\n"
      ],
      "metadata": {
        "colab": {
          "base_uri": "https://localhost:8080/"
        },
        "id": "cF8_6xEmrCkN",
        "outputId": "422b2cda-0f9b-4017-b716-2232b6ec5f31"
      },
      "execution_count": 233,
      "outputs": [
        {
          "output_type": "stream",
          "name": "stdout",
          "text": [
            "[[2.109758e+06 3.047300e+04 2.350200e+04]\n",
            " [1.052000e+03 4.421800e+04 1.492000e+03]\n",
            " [5.000000e+00 1.724400e+04 4.800000e+02]]\n",
            "IoU for class1 is:  0.9745786\n",
            "IoU for class2 is:  0.46801934\n",
            "IoU for class3 is:  0.011235166\n"
          ]
        }
      ]
    },
    {
      "cell_type": "code",
      "execution_count": 159,
      "metadata": {
        "id": "pXhqpt675gBi",
        "colab": {
          "base_uri": "https://localhost:8080/",
          "height": 573
        },
        "outputId": "f2fb5e95-b57d-4dc3-df2a-3b5295d4ea86"
      },
      "outputs": [
        {
          "output_type": "display_data",
          "data": {
            "text/plain": [
              "<Figure size 432x288 with 1 Axes>"
            ],
            "image/png": "[encoded data removed]"
          },
          "metadata": {
            "needs_background": "light"
          }
        },
        {
          "output_type": "display_data",
          "data": {
            "text/plain": [
              "<Figure size 432x288 with 1 Axes>"
            ],
            "image/png": "[encoded data removed]"
          },
          "metadata": {
            "needs_background": "light"
          }
        }
      ],
      "source": [
        "loss = history.history['loss']\n",
        "val_loss = history.history['val_loss']\n",
        "epochs = range(1, len(loss) + 1)\n",
        "plt.plot(epochs, loss, 'y', label='Training loss')\n",
        "plt.plot(epochs, val_loss, 'r', label='Validation loss')\n",
        "plt.title('Training and validation loss')\n",
        "plt.xlabel('Epochs')\n",
        "plt.ylabel('Loss')\n",
        "plt.legend()\n",
        "plt.show()\n",
        "\n",
        "\n",
        "acc = history.history['dice_coefficient']\n",
        "val_acc = history.history['val_dice_coefficient']\n",
        "\n",
        "plt.plot(epochs, acc, 'y', label='Training Dice')\n",
        "plt.plot(epochs, val_acc, 'r', label='Validation Dice')\n",
        "plt.title('Training and validation Dice')\n",
        "plt.xlabel('Epochs')\n",
        "plt.ylabel('Dice')\n",
        "plt.legend()\n",
        "plt.show()"
      ]
    },
    {
      "cell_type": "code",
      "execution_count": 160,
      "metadata": {
        "id": "UpwwahceEJpY",
        "colab": {
          "base_uri": "https://localhost:8080/",
          "height": 809
        },
        "outputId": "a8114e9a-2f06-4d13-9944-0aaba535e2b8"
      },
      "outputs": [
        {
          "output_type": "stream",
          "name": "stdout",
          "text": [
            "2/2 [==============================] - 1s 32ms/step - loss: 0.4266 - accuracy: 0.0087 - dice_coefficient: 0.5829\n"
          ]
        },
        {
          "output_type": "display_data",
          "data": {
            "text/plain": [
              "<Figure size 432x288 with 1 Axes>"
            ],
            "image/png": "[encoded data removed]"
          },
          "metadata": {
            "needs_background": "light"
          }
        },
        {
          "output_type": "stream",
          "name": "stderr",
          "text": [
            "WARNING:matplotlib.image:Clipping input data to the valid range for imshow with RGB data ([0..1] for floats or [0..255] for integers).\n"
          ]
        },
        {
          "output_type": "display_data",
          "data": {
            "text/plain": [
              "<Figure size 432x288 with 1 Axes>"
            ],
            "image/png": "[encoded data removed]"
          },
          "metadata": {
            "needs_background": "light"
          }
        },
        {
          "output_type": "display_data",
          "data": {
            "text/plain": [
              "<Figure size 432x288 with 1 Axes>"
            ],
            "image/png": "[encoded data removed]"
          },
          "metadata": {
            "needs_background": "light"
          }
        }
      ],
      "source": [
        "model.evaluate(x_valid, y_valid)\n",
        "predicted_masks = model.predict(x_train)\n",
        "plt.show()\n",
        "#for i in range(0,len(x_valid)):\n",
        "i = 12\n",
        "plt.imshow(ndi.rotate(np.squeeze(x_train[i]),-90))\n",
        "plt.show()\n",
        "# plt.imshow(np.squeeze(y_train[i]))\n",
        "# plt.show()\n",
        "plt.imshow(ndi.rotate(np.squeeze(predicted_masks[i]),-90))\n",
        "plt.show()\n",
        "\n",
        "\n",
        "def display_mask(j):\n",
        "    \"\"\"Quick utility to display a model's prediction.\"\"\"\n",
        "    mask = np.argmax(predicted_masks[i], axis=-1)\n",
        "    mask = np.expand_dims(mask, axis=-1)\n",
        "    img = ImageOps.autocontrast(keras.preprocessing.image.array_to_img(mask))\n",
        "    #display(img)\n",
        "    plt.imshow(ndi.rotate(np.squeeze(mask),-90))\n",
        "    plt.show()\n",
        "\n",
        "\n",
        "display_mask(predicted_masks[i])\n",
        "\n"
      ]
    },
    {
      "cell_type": "code",
      "source": [
        "y_pred=model.predict(x_valid)\n",
        "y_pred_argmax=np.argmax(y_pred, axis=2)\n",
        "\n",
        "##################################################\n",
        "\n",
        "#Using built in keras function\n",
        "from keras.metrics import MeanIoU\n",
        "n_classes = 3\n",
        "IOU_keras = MeanIoU(num_classes=n_classes)  \n",
        "IOU_keras.update_state(y_valid[:,:,:,0], y_pred_argmax)\n",
        "print(\"Mean IoU =\", IOU_keras.result().numpy())\n",
        "\n",
        "\n",
        "#To calculate I0U for each class...\n",
        "values = np.array(IOU_keras.get_weights()).reshape(n_classes, n_classes)\n",
        "print(values)\n",
        "class1_IoU = values[0,0]/(values[0,0] + values[0,1] + values[0,2] + values[0,3] + values[1,0]+ values[2,0]+ values[3,0])\n",
        "class2_IoU = values[1,1]/(values[1,1] + values[1,0] + values[1,2] + values[1,3] + values[0,1]+ values[2,1]+ values[3,1])\n",
        "class3_IoU = values[2,2]/(values[2,2] + values[2,0] + values[2,1] + values[2,3] + values[0,2]+ values[1,2]+ values[3,2])\n",
        "class4_IoU = values[3,3]/(values[3,3] + values[3,0] + values[3,1] + values[3,2] + values[0,3]+ values[1,3]+ values[2,3])\n",
        "\n",
        "print(\"IoU for class1 is: \", class1_IoU)\n",
        "print(\"IoU for class2 is: \", class2_IoU)\n",
        "print(\"IoU for class3 is: \", class3_IoU)\n",
        "print(\"IoU for class4 is: \", class4_IoU)\n",
        "\n",
        "# plt.imshow(x_train[0, :,:,0], cmap='gray')\n",
        "# plt.imshow(train_masks[0], cmap='gray')\n",
        "#######################################################################\n",
        "#Predict on a few images\n",
        "#model = get_model()\n",
        "#model.load_weights('???.hdf5')  \n",
        "import random\n",
        "test_img_number = random.randint(0, len(x_valid))\n",
        "test_img = x_valid[test_img_number]\n",
        "ground_truth=y_valid[test_img_number]\n",
        "test_img_norm=test_img[:,:,0][:,:,None]\n",
        "test_img_input=np.expand_dims(test_img_norm, 0)\n",
        "prediction = (model.predict(test_img_input))\n",
        "predicted_img=np.argmax(prediction, axis=3)[0,:,:]\n",
        "\n",
        "\n",
        "plt.figure(figsize=(12, 8))\n",
        "plt.subplot(231)\n",
        "plt.title('Testing Image')\n",
        "plt.imshow(test_img[:,:,0], cmap='gray')\n",
        "plt.subplot(232)\n",
        "plt.title('Testing Label')\n",
        "plt.imshow(ground_truth[:,:,0], cmap='jet')\n",
        "plt.subplot(233)\n",
        "plt.title('Prediction on test image')\n",
        "plt.imshow(predicted_img, cmap='jet')\n",
        "plt.show()\n"
      ],
      "metadata": {
        "id": "andJz_w1N4ag"
      },
      "execution_count": null,
      "outputs": []
    },
    {
      "cell_type": "code",
      "source": [
        ""
      ],
      "metadata": {
        "id": "KE99Ts3NN_oS"
      },
      "execution_count": null,
      "outputs": []
    }
  ],
  "metadata": {
    "accelerator": "GPU",
    "colab": {
      "collapsed_sections": [],
      "machine_shape": "hm",
      "name": "Unet.ipynb",
      "provenance": [],
      "include_colab_link": true
    },
    "gpuClass": "standard",
    "kernelspec": {
      "display_name": "Python 3",
      "name": "python3"
    },
    "language_info": {
      "name": "python"
    }
  },
  "nbformat": 4,
  "nbformat_minor": 0
}