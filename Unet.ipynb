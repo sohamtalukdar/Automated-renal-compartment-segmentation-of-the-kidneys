{
  "cells": [
    {
      "cell_type": "markdown",
      "metadata": {
        "id": "view-in-github",
        "colab_type": "text"
      },
      "source": [
        "<a href=\"https://colab.research.google.com/github/sohamtalukdar/Segmentation-of-Kidneys-in-MRI/blob/main/Unet.ipynb\" target=\"_parent\"><img src=\"https://colab.research.google.com/assets/colab-badge.svg\" alt=\"Open In Colab\"/></a>"
      ]
    },
    {
      "cell_type": "code",
      "execution_count": 23,
      "metadata": {
        "colab": {
          "base_uri": "https://localhost:8080/"
        },
        "id": "1bDqAs45lGS5",
        "outputId": "5cab0175-d67d-442a-dd28-14223606bed5"
      },
      "outputs": [
        {
          "output_type": "stream",
          "name": "stdout",
          "text": [
            "Looking in indexes: https://pypi.org/simple, https://us-python.pkg.dev/colab-wheels/public/simple/\n",
            "Requirement already satisfied: nibabel in /usr/local/lib/python3.7/dist-packages (4.0.1)\n",
            "Requirement already satisfied: packaging>=17.0 in /usr/local/lib/python3.7/dist-packages (from nibabel) (21.3)\n",
            "Requirement already satisfied: setuptools in /usr/local/lib/python3.7/dist-packages (from nibabel) (57.4.0)\n",
            "Requirement already satisfied: numpy>=1.17 in /usr/local/lib/python3.7/dist-packages (from nibabel) (1.21.6)\n",
            "Requirement already satisfied: pyparsing!=3.0.5,>=2.0.2 in /usr/local/lib/python3.7/dist-packages (from packaging>=17.0->nibabel) (3.0.9)\n",
            "Looking in indexes: https://pypi.org/simple, https://us-python.pkg.dev/colab-wheels/public/simple/\n",
            "Collecting keras-adabound\n",
            "  Downloading keras-adabound-0.6.0.tar.gz (5.5 kB)\n",
            "Requirement already satisfied: numpy in /usr/local/lib/python3.7/dist-packages (from keras-adabound) (1.21.6)\n",
            "Requirement already satisfied: Keras in /usr/local/lib/python3.7/dist-packages (from keras-adabound) (2.8.0)\n",
            "Requirement already satisfied: typeguard in /usr/local/lib/python3.7/dist-packages (from keras-adabound) (2.7.1)\n",
            "Building wheels for collected packages: keras-adabound\n",
            "  Building wheel for keras-adabound (setup.py) ... \u001b[?25l\u001b[?25hdone\n",
            "  Created wheel for keras-adabound: filename=keras_adabound-0.6.0-py3-none-any.whl size=6609 sha256=fd1ba771745c4cac49bcff43a122e2ad6bb9a5e1960d8a653ed0547049c7c131\n",
            "  Stored in directory: /root/.cache/pip/wheels/3e/bf/39/3d95847ef12aa58c15a6cc7a20f4f21ea39fcd52793e1beea0\n",
            "Successfully built keras-adabound\n",
            "Installing collected packages: keras-adabound\n",
            "Successfully installed keras-adabound-0.6.0\n"
          ]
        }
      ],
      "source": [
        "!pip install nibabel --upgrade\n",
        "!pip install keras-adabound\n",
        "from keras_adabound import AdaBound\n",
        "import tensorflow as tf\n",
        "from tensorflow import keras\n",
        "from keras.layers import *\n",
        "import pandas as pd\n",
        "import numpy as np \n",
        "import matplotlib.pyplot as plt\n",
        "import os\n",
        "import nibabel as nib\n",
        "from nibabel.processing import conform\n",
        "from sklearn.model_selection import train_test_split\n",
        "from skimage.transform import resize\n",
        "import tensorflow as tf \n",
        "from tensorflow import keras\n",
        "from tensorflow.keras.layers import Input, Conv2D, MaxPooling2D, Activation, ReLU\n",
        "from tensorflow.keras.layers import BatchNormalization, Conv2DTranspose, Concatenate\n",
        "from tensorflow.keras.models import Model, Sequential\n",
        "from tensorflow.keras.optimizers import Adam, SGD\n",
        "from tensorflow.keras.optimizers import RMSprop\n",
        "import tensorflow as tf\n",
        "import os\n",
        "import random\n",
        "import numpy as np\n",
        "from tqdm import tqdm \n",
        "from skimage.io import imread, imshow\n",
        "from skimage.transform import resize\n",
        "import matplotlib.pyplot as plt\n",
        "from PIL import Image\n",
        "from keras import backend as K\n",
        "from PIL import ImageOps"
      ]
    },
    {
      "cell_type": "code",
      "execution_count": 6,
      "metadata": {
        "colab": {
          "base_uri": "https://localhost:8080/"
        },
        "id": "q9dMpFp7mVK7",
        "outputId": "be938e18-6470-42ce-c93b-d82620b05fe5"
      },
      "outputs": [
        {
          "output_type": "stream",
          "name": "stdout",
          "text": [
            "Mounted at /content/drive\n"
          ]
        }
      ],
      "source": [
        "from google.colab import drive\n",
        "drive.mount('/content/drive', force_remount=True)"
      ]
    },
    {
      "cell_type": "code",
      "execution_count": 7,
      "metadata": {
        "id": "ZYalcDiah636"
      },
      "outputs": [],
      "source": [
        "\"\"\"Shamelessly taken from Alex Daniel - will cite properly!\"\"\"\n",
        "\n",
        "def rescale(data, black=None, white=None):\n",
        "    if black is None:\n",
        "        black = np.mean(data) - 0.5 * np.std(data)\n",
        "        if black < data.min():\n",
        "            black = data.min()\n",
        "    if white is None:\n",
        "        white = np.mean(data) + 4 * np.std(data)\n",
        "        if white > data.max():\n",
        "            white = data.max()\n",
        "    data = np.clip(data, black, white) - black\n",
        "    data = data / (white - black)\n",
        "    return data\n",
        "\n",
        "def normalise_image(image, affine):\n",
        "\n",
        "    image = rescale(image)\n",
        "    img = nib.Nifti1Image(image, affine)\n",
        "    zoom = img.header.get_zooms()\n",
        "    img = conform(img, out_shape=(240, 240, img.shape[-1]),\n",
        "                  voxel_size=(1.458, 1.458, zoom[-1] * 0.998),\n",
        "                  orientation='LIP')\n",
        "    image = img.get_fdata()\n",
        "    image = resize(image, (256, 256, image.shape[2]))\n",
        "    zoom = img.header.get_zooms()\n",
        "    return image\n",
        "  \n",
        "def normalise_mask(mask, affine):\n",
        "\n",
        "    img = nib.Nifti1Image(mask, affine)\n",
        "    img = conform(img, out_shape=(240, 240, img.shape[-1]),\n",
        "                  voxel_size=(1.458, 1.458, img.header.get_zooms()[-1] *\n",
        "                              0.998),\n",
        "                  orientation='LIP')\n",
        "    mask = img.get_fdata()\n",
        "    mask = resize(mask, (256, 256, mask.shape[2]))\n",
        "    mask = np.round(mask)\n",
        "    return mask"
      ]
    },
    {
      "cell_type": "code",
      "execution_count": 8,
      "metadata": {
        "colab": {
          "base_uri": "https://localhost:8080/"
        },
        "id": "d_DyW43NmWFF",
        "outputId": "cad6dcbc-2525-4bdf-a07b-10020084a0a2"
      },
      "outputs": [
        {
          "output_type": "stream",
          "name": "stdout",
          "text": [
            "(256, 256, 17)\n"
          ]
        }
      ],
      "source": [
        "ground_truths = []\n",
        "base_scans = []\n",
        "dir = '/content/drive/MyDrive/ColabNotebooks/UNet/'\n",
        "for f in sorted(os.listdir(dir + 'GroundTruth/')):\n",
        "  image = nib.load(dir + 'GroundTruth/' + f)\n",
        "  ground_truths.append(image)\n",
        "for f in sorted(os.listdir(dir + 'Masks_T1/')):\n",
        "  image = nib.load(dir + 'Masks_T1/'+ f)\n",
        "  base_scans.append(image)\n",
        "print(ground_truths[1].header.get_data_shape())\n"
      ]
    },
    {
      "cell_type": "code",
      "execution_count": 9,
      "metadata": {
        "colab": {
          "base_uri": "https://localhost:8080/"
        },
        "id": "ZbU6i_KvGzg8",
        "outputId": "3ba35ffb-4797-4919-e0f0-b3cc407fb2a1"
      },
      "outputs": [
        {
          "output_type": "stream",
          "name": "stdout",
          "text": [
            "(256, 256, 17)\n",
            "10 0\n",
            "<class 'numpy.ndarray'>\n"
          ]
        }
      ],
      "source": [
        "gt_arrays = []\n",
        "gt_affine = []\n",
        "base_arrays = []\n",
        "base_affine = []\n",
        "for img in ground_truths:\n",
        "  affine = img.affine\n",
        "  gt_voxels = img.get_fdata()\n",
        "  normalised = normalise_mask(gt_voxels, affine)\n",
        "  gt_arrays.append(normalised)\n",
        "for img in base_scans:\n",
        "  affine = img.affine\n",
        "  base_voxels = img.get_fdata()\n",
        "  normalised = normalise_image(base_voxels, affine)\n",
        "  base_arrays.append(base_voxels)\n",
        "pairs = zip(gt_arrays, base_arrays)\n",
        "\n",
        "print(gt_arrays[1].shape)\n",
        "print(len(gt_arrays), len(gt_affine))\n",
        "print(type(base_arrays[2]))\n",
        "\n",
        "\n"
      ]
    },
    {
      "cell_type": "code",
      "execution_count": 10,
      "metadata": {
        "colab": {
          "base_uri": "https://localhost:8080/",
          "height": 71
        },
        "id": "kwLCx3DLjM37",
        "outputId": "c8b8d37f-1422-490d-e784-68a3f730eaa0"
      },
      "outputs": [
        {
          "output_type": "stream",
          "name": "stdout",
          "text": [
            "170 170\n",
            "(256, 256, 1) (256, 256, 1)\n"
          ]
        },
        {
          "output_type": "execute_result",
          "data": {
            "text/plain": [
              "'\\nfig, ax = plt.subplots(2)\\nax[0].imshow(x_images[46])\\nax[1].imshow(y_images[46])\\nplt.show()\\n'"
            ],
            "application/vnd.google.colaboratory.intrinsic+json": {
              "type": "string"
            }
          },
          "metadata": {},
          "execution_count": 10
        }
      ],
      "source": [
        "x_series = pd.Series(base_arrays)\n",
        "y_series = pd.Series(gt_arrays)\n",
        "\n",
        "#also courtesy of Alex Daniel\n",
        "\n",
        "def tf_arrays(series):\n",
        "    data = np.concatenate(series, 2)\n",
        "    data = np.swapaxes(data, 0, 2)\n",
        "    data = np.swapaxes(data, 1, 2)\n",
        "    data = np.expand_dims(data, 3)\n",
        "    return data\n",
        "\n",
        "x_data = tf_arrays(x_series)\n",
        "y_data = tf_arrays(y_series)\n",
        "\"\"\"\n",
        "for img in base_arrays:\n",
        "  for i in range(0,17):\n",
        "    x_images.append(img[:,:,i,np.newaxis])\n",
        "for img in gt_arrays:\n",
        "  for i in range(0,17):\n",
        "    y_images.append(img[:,:,i,np.newaxis])\n",
        "\"\"\"\n",
        "\n",
        "print(len(x_data), len(y_data))\n",
        "print(x_data[1].shape, y_data[1].shape)\n",
        "\n",
        "\n",
        "\"\"\"\n",
        "fig, ax = plt.subplots(2)\n",
        "ax[0].imshow(x_images[46])\n",
        "ax[1].imshow(y_images[46])\n",
        "plt.show()\n",
        "\"\"\""
      ]
    },
    {
      "cell_type": "code",
      "source": [
        "x_train, x_valid, y_train, y_valid = train_test_split(x_data, y_data, \n",
        "                                     test_size = 0.3)"
      ],
      "metadata": {
        "id": "PYTtaivLdHO-"
      },
      "execution_count": 11,
      "outputs": []
    },
    {
      "cell_type": "code",
      "source": [
        "def dice_coef(y_pred, y_true):\n",
        "    intersection = K.sum(K.sum(K.abs(y_true * y_pred), axis=-1))\n",
        "    union = K.sum(K.sum(K.abs(y_true) + K.abs(y_pred), axis=-1))\n",
        "    return 2*intersection / union\n",
        "\n",
        "def dice_coef_loss(y_true, y_pred):\n",
        "    return -dice_coef(y_true, y_pred)"
      ],
      "metadata": {
        "id": "WKNJsoaUUZv0"
      },
      "execution_count": 12,
      "outputs": []
    },
    {
      "cell_type": "code",
      "execution_count": 13,
      "metadata": {
        "id": "qlTQZAFDNEV5"
      },
      "outputs": [],
      "source": [
        "### UNET\n",
        "\n",
        "def convolution_operation(entered_input, filters=64):\n",
        "    # Taking first input and implementing the first conv block\n",
        "    conv1 = Conv2D(filters, kernel_size = (3,3), padding = \"same\")(entered_input)\n",
        "    batch_norm1 = BatchNormalization()(conv1)\n",
        "    act1 = ReLU()(batch_norm1)\n",
        "    \n",
        "    # Taking first input and implementing the second conv block\n",
        "    conv2 = Conv2D(filters, kernel_size = (3,3), padding = \"same\")(act1)\n",
        "    batch_norm2 = BatchNormalization()(conv2)\n",
        "    act2 = ReLU()(batch_norm2)\n",
        "    \n",
        "    return act2\n",
        "\n",
        "\n",
        "\n",
        "def encoder(entered_input, filters=64):\n",
        "    # Collect the start and end of each sub-block for normal pass and skip connections\n",
        "    enc1 = convolution_operation(entered_input, filters)\n",
        "    MaxPool1 = MaxPooling2D(strides = (2,2))(enc1)\n",
        "    return enc1, MaxPool1\n",
        "\n",
        "\n",
        "def decoder(entered_input, skip, filters=64):\n",
        "    # Upsampling and concatenating the essential features\n",
        "    Upsample = Conv2DTranspose(filters, (2, 2), strides=2, padding=\"same\")(entered_input)\n",
        "    Connect_Skip = Concatenate()([Upsample, skip])\n",
        "    out = convolution_operation(Connect_Skip, filters)\n",
        "    return out\n",
        "\n",
        "\n",
        "def U_Net(Image_Size):\n",
        "    # Take the image size and shape\n",
        "    input1 = Input(Image_Size)\n",
        "    \n",
        "    # Construct the encoder blocks\n",
        "    skip1, encoder_1 = encoder(input1, 64)\n",
        "    skip2, encoder_2 = encoder(encoder_1, 64*2)\n",
        "    skip3, encoder_3 = encoder(encoder_2, 64*4)\n",
        "    skip4, encoder_4 = encoder(encoder_3, 64*8)\n",
        "    \n",
        "    # Preparing the next block\n",
        "    conv_block = convolution_operation(encoder_4, 64*16)\n",
        "    \n",
        "    # Construct the decoder blocks\n",
        "    decoder_1 = decoder(conv_block, skip4, 64*8)\n",
        "    decoder_2 = decoder(decoder_1, skip3, 64*4)\n",
        "    decoder_3 = decoder(decoder_2, skip2, 64*2)\n",
        "    decoder_4 = decoder(decoder_3, skip1, 64)\n",
        "    \n",
        "    out = Conv2D(3, (1,1), padding=\"same\", activation=\"softmax\")(decoder_4)\n",
        "\n",
        "    model = Model(input1, out)\n",
        "    return model\n",
        "\n"
      ]
    },
    {
      "cell_type": "code",
      "execution_count": 14,
      "metadata": {
        "id": "VtCXOTgBIkI_"
      },
      "outputs": [],
      "source": [
        "input_size = (256, 256,1)\n",
        "model = U_Net(input_size)"
      ]
    },
    {
      "cell_type": "code",
      "source": [
        "#optimizer - Adam\n",
        "model.compile(optimizer= AdaBound(learning_rate = 0.0003), \n",
        "              loss=\"sparse_categorical_crossentropy\",\n",
        "              metrics = \"accuracy\")\n",
        "\n",
        "# Train the model, doing validation at the end of each epoch.\n",
        "result = model.fit(x=x_train, \n",
        "                   y=y_train, \n",
        "                   batch_size=2, \n",
        "                   epochs=30, \n",
        "                   validation_data=(x_valid, y_valid), \n",
        "                   steps_per_epoch=len(x_train)//2 \n",
        "                   )"
      ],
      "metadata": {
        "colab": {
          "base_uri": "https://localhost:8080/"
        },
        "id": "1g61wxDCdWIV",
        "outputId": "d1a7a35e-6371-4ee1-c6e3-d9b22179a4d6"
      },
      "execution_count": 24,
      "outputs": [
        {
          "output_type": "stream",
          "name": "stdout",
          "text": [
            "Epoch 1/30\n",
            "68/68 [==============================] - 23s 112ms/step - loss: 0.0160 - accuracy: 0.9924 - val_loss: 0.0256 - val_accuracy: 0.9900\n",
            "Epoch 2/30\n",
            "68/68 [==============================] - 7s 105ms/step - loss: 0.0153 - accuracy: 0.9926 - val_loss: 0.0194 - val_accuracy: 0.9914\n",
            "Epoch 3/30\n",
            "68/68 [==============================] - 7s 102ms/step - loss: 0.0151 - accuracy: 0.9928 - val_loss: 0.0210 - val_accuracy: 0.9910\n",
            "Epoch 4/30\n",
            "68/68 [==============================] - 7s 102ms/step - loss: 0.0152 - accuracy: 0.9928 - val_loss: 0.0190 - val_accuracy: 0.9915\n",
            "Epoch 5/30\n",
            "68/68 [==============================] - 7s 106ms/step - loss: 0.0149 - accuracy: 0.9929 - val_loss: 0.0259 - val_accuracy: 0.9899\n",
            "Epoch 6/30\n",
            "68/68 [==============================] - 7s 101ms/step - loss: 0.0148 - accuracy: 0.9930 - val_loss: 0.0252 - val_accuracy: 0.9898\n",
            "Epoch 7/30\n",
            "68/68 [==============================] - 7s 105ms/step - loss: 0.0148 - accuracy: 0.9930 - val_loss: 0.0191 - val_accuracy: 0.9916\n",
            "Epoch 8/30\n",
            "68/68 [==============================] - 7s 109ms/step - loss: 0.0147 - accuracy: 0.9930 - val_loss: 0.0206 - val_accuracy: 0.9911\n",
            "Epoch 9/30\n",
            "68/68 [==============================] - 7s 106ms/step - loss: 0.0147 - accuracy: 0.9930 - val_loss: 0.0205 - val_accuracy: 0.9912\n",
            "Epoch 10/30\n",
            "68/68 [==============================] - 7s 102ms/step - loss: 0.0146 - accuracy: 0.9930 - val_loss: 0.0181 - val_accuracy: 0.9918\n",
            "Epoch 11/30\n",
            "68/68 [==============================] - 7s 105ms/step - loss: 0.0147 - accuracy: 0.9931 - val_loss: 0.0254 - val_accuracy: 0.9901\n",
            "Epoch 12/30\n",
            "68/68 [==============================] - 7s 107ms/step - loss: 0.0146 - accuracy: 0.9930 - val_loss: 0.0197 - val_accuracy: 0.9913\n",
            "Epoch 13/30\n",
            "68/68 [==============================] - 7s 102ms/step - loss: 0.0148 - accuracy: 0.9929 - val_loss: 0.0184 - val_accuracy: 0.9918\n",
            "Epoch 14/30\n",
            "68/68 [==============================] - 7s 102ms/step - loss: 0.0147 - accuracy: 0.9930 - val_loss: 0.0191 - val_accuracy: 0.9916\n",
            "Epoch 15/30\n",
            "68/68 [==============================] - 7s 105ms/step - loss: 0.0148 - accuracy: 0.9930 - val_loss: 0.0234 - val_accuracy: 0.9905\n",
            "Epoch 16/30\n",
            "68/68 [==============================] - 7s 105ms/step - loss: 0.0150 - accuracy: 0.9929 - val_loss: 0.0265 - val_accuracy: 0.9895\n",
            "Epoch 17/30\n",
            "68/68 [==============================] - 7s 105ms/step - loss: 0.0147 - accuracy: 0.9930 - val_loss: 0.0205 - val_accuracy: 0.9911\n",
            "Epoch 18/30\n",
            "68/68 [==============================] - 7s 105ms/step - loss: 0.0150 - accuracy: 0.9929 - val_loss: 0.0198 - val_accuracy: 0.9915\n",
            "Epoch 19/30\n",
            "68/68 [==============================] - 7s 102ms/step - loss: 0.0149 - accuracy: 0.9929 - val_loss: 0.0192 - val_accuracy: 0.9915\n",
            "Epoch 20/30\n",
            "68/68 [==============================] - 7s 105ms/step - loss: 0.0145 - accuracy: 0.9931 - val_loss: 0.0215 - val_accuracy: 0.9909\n",
            "Epoch 21/30\n",
            "68/68 [==============================] - 7s 105ms/step - loss: 0.0147 - accuracy: 0.9930 - val_loss: 0.0263 - val_accuracy: 0.9899\n",
            "Epoch 22/30\n",
            "68/68 [==============================] - 7s 105ms/step - loss: 0.0147 - accuracy: 0.9931 - val_loss: 0.0190 - val_accuracy: 0.9916\n",
            "Epoch 23/30\n",
            "68/68 [==============================] - 7s 105ms/step - loss: 0.0144 - accuracy: 0.9932 - val_loss: 0.0183 - val_accuracy: 0.9918\n",
            "Epoch 24/30\n",
            "68/68 [==============================] - 7s 105ms/step - loss: 0.0148 - accuracy: 0.9929 - val_loss: 0.0194 - val_accuracy: 0.9914\n",
            "Epoch 25/30\n",
            "68/68 [==============================] - 7s 102ms/step - loss: 0.0147 - accuracy: 0.9930 - val_loss: 0.0178 - val_accuracy: 0.9919\n",
            "Epoch 26/30\n",
            "68/68 [==============================] - 7s 101ms/step - loss: 0.0146 - accuracy: 0.9930 - val_loss: 0.0254 - val_accuracy: 0.9897\n",
            "Epoch 27/30\n",
            "68/68 [==============================] - 7s 105ms/step - loss: 0.0147 - accuracy: 0.9930 - val_loss: 0.0187 - val_accuracy: 0.9915\n",
            "Epoch 28/30\n",
            "68/68 [==============================] - 7s 105ms/step - loss: 0.0145 - accuracy: 0.9931 - val_loss: 0.0249 - val_accuracy: 0.9902\n",
            "Epoch 29/30\n",
            "68/68 [==============================] - 7s 102ms/step - loss: 0.0145 - accuracy: 0.9931 - val_loss: 0.0220 - val_accuracy: 0.9910\n",
            "Epoch 30/30\n",
            "68/68 [==============================] - 7s 102ms/step - loss: 0.0144 - accuracy: 0.9931 - val_loss: 0.0247 - val_accuracy: 0.9901\n"
          ]
        }
      ]
    },
    {
      "cell_type": "code",
      "execution_count": 25,
      "metadata": {
        "colab": {
          "base_uri": "https://localhost:8080/",
          "height": 791
        },
        "id": "UpwwahceEJpY",
        "outputId": "88433ee7-5195-422f-8e58-d5e1ac5342c5"
      },
      "outputs": [
        {
          "output_type": "stream",
          "name": "stdout",
          "text": [
            "2/2 [==============================] - 1s 30ms/step - loss: 0.0247 - accuracy: 0.9901\n"
          ]
        },
        {
          "output_type": "display_data",
          "data": {
            "text/plain": [
              "<Figure size 432x288 with 1 Axes>"
            ],
            "image/png": "[encoded data removed]"
          },
          "metadata": {
            "needs_background": "light"
          }
        },
        {
          "output_type": "display_data",
          "data": {
            "text/plain": [
              "<Figure size 432x288 with 1 Axes>"
            ],
            "image/png": "[encoded data removed]"
          },
          "metadata": {
            "needs_background": "light"
          }
        },
        {
          "output_type": "display_data",
          "data": {
            "text/plain": [
              "<Figure size 432x288 with 1 Axes>"
            ],
            "image/png": "[encoded data removed]"
          },
          "metadata": {
            "needs_background": "light"
          }
        }
      ],
      "source": [
        "model.evaluate(x_valid, y_valid)\n",
        "predicted_masks = model.predict(x_train)\n",
        "plt.show()\n",
        "#FOR T2 - 20,14,12,11,6,5,3,2( 12 ): 2,3,4,8\n",
        "#FOR T1 - 20,18,16,12,11,10,7,6,5,4\n",
        "i = 20\n",
        "plt.imshow(np.squeeze(x_train[i]))\n",
        "plt.show()\n",
        "# plt.imshow(np.squeeze(y_train[i]))\n",
        "# plt.show()\n",
        "plt.imshow(np.squeeze(predicted_masks[i]))\n",
        "plt.show()\n",
        "\n",
        "\n",
        "def display_mask(j):\n",
        "    \"\"\"Quick utility to display a model's prediction.\"\"\"\n",
        "    mask = np.argmax(predicted_masks[i], axis=-1)\n",
        "    mask = np.expand_dims(mask, axis=-1)\n",
        "    img = ImageOps.autocontrast(keras.preprocessing.image.array_to_img(mask))\n",
        "    #display(img)\n",
        "    plt.imshow(np.squeeze(mask))\n",
        "    plt.show()\n",
        "\n",
        "display_mask(predicted_masks[i])\n"
      ]
    },
    {
      "cell_type": "code",
      "source": [
        ""
      ],
      "metadata": {
        "id": "NeWAyGIg1oTI"
      },
      "execution_count": null,
      "outputs": []
    }
  ],
  "metadata": {
    "accelerator": "GPU",
    "colab": {
      "collapsed_sections": [],
      "name": "Unet.ipynb",
      "provenance": [],
      "include_colab_link": true
    },
    "gpuClass": "standard",
    "kernelspec": {
      "display_name": "Python 3",
      "name": "python3"
    },
    "language_info": {
      "name": "python"
    }
  },
  "nbformat": 4,
  "nbformat_minor": 0
}